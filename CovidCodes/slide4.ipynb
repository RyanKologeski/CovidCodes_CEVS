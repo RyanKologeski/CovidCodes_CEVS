{
 "cells": [
  {
   "cell_type": "code",
   "execution_count": 5,
   "metadata": {},
   "outputs": [],
   "source": [
    "import pandas as pd\n",
    "from pandas import DataFrame\n",
    "import matplotlib.pyplot as plt\n",
    "import numpy as np\n",
    "import os\n",
    "from datetime import date\n",
    "import datetime\n",
    "from pathlib import Path\n",
    "import seaborn as sns"
   ]
  },
  {
   "cell_type": "code",
   "execution_count": 6,
   "metadata": {},
   "outputs": [
    {
     "data": {
      "text/plain": [
       "'Banco SIVEP 23_03_2022 07_34_00.xlsx'"
      ]
     },
     "execution_count": 6,
     "metadata": {},
     "output_type": "execute_result"
    }
   ],
   "source": [
    "caminho = r'Z:\\Banco SIVEP Exportação'\n",
    "lista_arquivos = os.listdir(caminho)\n",
    "lista_datas = []\n",
    "\n",
    "for arquivo in lista_arquivos:\n",
    "    #Descobrir a data desse arquivo\n",
    "    data = os.path.getmtime(f'{caminho}/{arquivo}')\n",
    "    lista_datas.append((data,arquivo))\n",
    "\n",
    "lista_datas.sort(reverse=True) #Vai ordenar a lista em ordem decrescente com reverse=True Obs: Ele ordena sempre com o primeiro valor, por isso colocamos data antes de arquivo\n",
    "ultimo_arquivo = lista_datas[0][1] #Pega o ultimo arquivo\n",
    "ultimo_arquivo"
   ]
  },
  {
   "cell_type": "code",
   "execution_count": 7,
   "metadata": {},
   "outputs": [],
   "source": [
    "if not os.path.exists(f'Z:\\Graficos Boletim_Python/Gráficos {date.today().day}_{date.today().month}_{date.today().year}'):\n",
    "    os.makedirs(f'Z:\\Graficos Boletim_Python/Gráficos {date.today().day}_{date.today().month}_{date.today().year}')"
   ]
  },
  {
   "cell_type": "code",
   "execution_count": 8,
   "metadata": {},
   "outputs": [],
   "source": [
    "dados = pd.read_excel(f'{caminho}/{ultimo_arquivo}')\n",
    "#dados = pd.read_excel('Z:/Banco SIVEP Exportação/Banco SIVEP 16_03_2022 07_33_42.xlsx')"
   ]
  },
  {
   "cell_type": "code",
   "execution_count": 40,
   "metadata": {},
   "outputs": [],
   "source": [
    "#Filtrando a tabela apenas com as colunas de interece\n",
    "filtrado = dados[['Sem Epi Internacao','Classificacao final','Evolucao']]"
   ]
  },
  {
   "cell_type": "code",
   "execution_count": 41,
   "metadata": {},
   "outputs": [],
   "source": [
    "#Filtrando a coluna Classificacao final apenas com valores de COVID-19\n",
    "covid19 = filtrado.loc[filtrado['Classificacao final']=='COVID-19']\n",
    "covid19 = covid19.dropna()"
   ]
  },
  {
   "cell_type": "code",
   "execution_count": 42,
   "metadata": {},
   "outputs": [
    {
     "data": {
      "text/html": [
       "<div>\n",
       "<style scoped>\n",
       "    .dataframe tbody tr th:only-of-type {\n",
       "        vertical-align: middle;\n",
       "    }\n",
       "\n",
       "    .dataframe tbody tr th {\n",
       "        vertical-align: top;\n",
       "    }\n",
       "\n",
       "    .dataframe thead th {\n",
       "        text-align: right;\n",
       "    }\n",
       "</style>\n",
       "<table border=\"1\" class=\"dataframe\">\n",
       "  <thead>\n",
       "    <tr style=\"text-align: right;\">\n",
       "      <th></th>\n",
       "      <th>Classificacao final</th>\n",
       "      <th>Evolucao</th>\n",
       "    </tr>\n",
       "    <tr>\n",
       "      <th>Sem Epi Internacao</th>\n",
       "      <th></th>\n",
       "      <th></th>\n",
       "    </tr>\n",
       "  </thead>\n",
       "  <tbody>\n",
       "    <tr>\n",
       "      <th>2020_11</th>\n",
       "      <td>1</td>\n",
       "      <td>1</td>\n",
       "    </tr>\n",
       "    <tr>\n",
       "      <th>2020_12</th>\n",
       "      <td>19</td>\n",
       "      <td>19</td>\n",
       "    </tr>\n",
       "    <tr>\n",
       "      <th>2020_13</th>\n",
       "      <td>101</td>\n",
       "      <td>101</td>\n",
       "    </tr>\n",
       "    <tr>\n",
       "      <th>2020_14</th>\n",
       "      <td>111</td>\n",
       "      <td>111</td>\n",
       "    </tr>\n",
       "    <tr>\n",
       "      <th>2020_15</th>\n",
       "      <td>66</td>\n",
       "      <td>66</td>\n",
       "    </tr>\n",
       "  </tbody>\n",
       "</table>\n",
       "</div>"
      ],
      "text/plain": [
       "                    Classificacao final  Evolucao\n",
       "Sem Epi Internacao                               \n",
       "2020_11                               1         1\n",
       "2020_12                              19        19\n",
       "2020_13                             101       101\n",
       "2020_14                             111       111\n",
       "2020_15                              66        66"
      ]
     },
     "execution_count": 42,
     "metadata": {},
     "output_type": "execute_result"
    }
   ],
   "source": [
    "#utilizando covid19 e agrupando pela semana de internacao\n",
    "contacasos = covid19.groupby('Sem Epi Internacao').count()\n",
    "contacasos.head()"
   ]
  },
  {
   "cell_type": "code",
   "execution_count": 43,
   "metadata": {},
   "outputs": [
    {
     "data": {
      "text/plain": [
       "Sem Epi Internacao\n",
       "2020_11      1\n",
       "2020_12     19\n",
       "2020_13    101\n",
       "2020_14    111\n",
       "2020_15     66\n",
       "          ... \n",
       "2022_07    737\n",
       "2022_08    511\n",
       "2022_09    339\n",
       "2022_10    199\n",
       "2022_11    112\n",
       "Name: Classificacao final, Length: 106, dtype: int64"
      ]
     },
     "execution_count": 43,
     "metadata": {},
     "output_type": "execute_result"
    }
   ],
   "source": [
    "#Guardado em confirmado os valores da coluna \n",
    "confirmado = contacasos\n",
    "confirmado = confirmado.drop(['2022_12'])\n",
    "confirmado = confirmado['Classificacao final']\n",
    "confirmado"
   ]
  },
  {
   "cell_type": "code",
   "execution_count": 44,
   "metadata": {},
   "outputs": [
    {
     "data": {
      "text/plain": [
       "Sem Epi Internacao\n",
       "2020_11     0.0\n",
       "2020_12     0.0\n",
       "2020_13     0.0\n",
       "2020_14     0.0\n",
       "2020_15     0.0\n",
       "           ... \n",
       "2022_07    27.0\n",
       "2022_08    41.0\n",
       "2022_09    18.0\n",
       "2022_10    22.0\n",
       "2022_11    50.0\n",
       "Name: Classificacao final_x, Length: 106, dtype: float64"
      ]
     },
     "execution_count": 44,
     "metadata": {},
     "output_type": "execute_result"
    }
   ],
   "source": [
    "#Filtrando os casos não informados\n",
    "nao_informado = filtrado.loc[filtrado['Classificacao final']=='Não Informado'] #Valores da coluna Classificacao final apenas com valor Não Informado\n",
    "nao_informado = nao_informado.dropna()\n",
    "nao_informado = nao_informado.groupby('Sem Epi Internacao').count() #Agrupando pela semana de internacao\n",
    "nao_informado = nao_informado.merge(contacasos, how =  'outer', left_index = True, right_index = True) #Juntando os dataframes nao_informado com o contacasos para ter o mesmo numero de linha com base na semana de internacao\n",
    "nao_informado = nao_informado.fillna(0) #O que está com valor NaN recebe o valor 0\n",
    "nao_informado = nao_informado.drop(['2022_12'])\n",
    "nao_informado = nao_informado['Classificacao final_x'] \n",
    "nao_informado"
   ]
  },
  {
   "cell_type": "code",
   "execution_count": 45,
   "metadata": {},
   "outputs": [
    {
     "name": "stderr",
     "output_type": "stream",
     "text": [
      "C:\\Users\\RYAN-R~1\\AppData\\Local\\Temp/ipykernel_14596/2088543961.py:3: SettingWithCopyWarning: \n",
      "A value is trying to be set on a copy of a slice from a DataFrame.\n",
      "Try using .loc[row_indexer,col_indexer] = value instead\n",
      "\n",
      "See the caveats in the documentation: https://pandas.pydata.org/pandas-docs/stable/user_guide/indexing.html#returning-a-view-versus-a-copy\n",
      "  srag['Classificacao final'] = srag['Classificacao final'].map(lambda x: str(x)[0:4]) #Como tem SRAG... utilizamos isso para pegar apenas os 4 primeiros caracteres, no caso SRAG\n"
     ]
    },
    {
     "data": {
      "text/plain": [
       "Sem Epi Internacao\n",
       "2020_11     46\n",
       "2020_12    134\n",
       "2020_13    496\n",
       "2020_14    493\n",
       "2020_15    422\n",
       "          ... \n",
       "2022_07    205\n",
       "2022_08    218\n",
       "2022_09    173\n",
       "2022_10    185\n",
       "2022_11    124\n",
       "Name: Classificacao final_x, Length: 106, dtype: int64"
      ]
     },
     "execution_count": 45,
     "metadata": {},
     "output_type": "execute_result"
    }
   ],
   "source": [
    "#Filtrando os casos de SRAG\n",
    "srag = filtrado\n",
    "srag['Classificacao final'] = srag['Classificacao final'].map(lambda x: str(x)[0:4]) #Como tem SRAG... utilizamos isso para pegar apenas os 4 primeiros caracteres, no caso SRAG\n",
    "srag = srag.loc[srag['Classificacao final']=='SRAG'] #Valores da coluna Classificacao final apenas com valores SRAG\n",
    "srag = srag.groupby('Sem Epi Internacao').count() #Agrupa pela semana de internacao\n",
    "srag = srag.drop(['2020_01','2020_02','2020_03','2020_04','2020_05','2020_06','2020_07',\n",
    "        '2020_08','2020_09','2020_10']) #Dropando as semanas de internacao que nao sao de interesse\n",
    "srag = srag.merge(contacasos,how='outer',left_index=True,right_index=True)\n",
    "srag = srag.fillna(0)\n",
    "srag = srag.drop(['2022_12'])\n",
    "srag = srag['Classificacao final_x']\n",
    "srag"
   ]
  },
  {
   "cell_type": "code",
   "execution_count": 46,
   "metadata": {},
   "outputs": [
    {
     "data": {
      "text/plain": [
       "0      2020_11\n",
       "1      2020_12\n",
       "2      2020_13\n",
       "3      2020_14\n",
       "4      2020_15\n",
       "        ...   \n",
       "101    2022_07\n",
       "102    2022_08\n",
       "103    2022_09\n",
       "104    2022_10\n",
       "105    2022_11\n",
       "Name: Sem Epi Internacao, Length: 106, dtype: object"
      ]
     },
     "execution_count": 46,
     "metadata": {},
     "output_type": "execute_result"
    }
   ],
   "source": [
    "#Criando o eixo x com os valores da semana de internacao\n",
    "semana = covid19.sort_values('Sem Epi Internacao',ascending=True) #Coloca a coluna semana de internacao em ordem crescente de valores\n",
    "semana = semana.groupby('Sem Epi Internacao').count()\n",
    "semana = semana.drop(['2022_12'])\n",
    "semana = semana.reset_index() #Reseta o index\n",
    "semana = semana['Sem Epi Internacao']\n",
    "semana"
   ]
  },
  {
   "cell_type": "code",
   "execution_count": 47,
   "metadata": {},
   "outputs": [],
   "source": [
    "#Cria o eixo y de 0 a 6600 em intervalos de 700\n",
    "eixoy = np.arange(0,7300,700)"
   ]
  },
  {
   "cell_type": "code",
   "execution_count": 48,
   "metadata": {},
   "outputs": [],
   "source": [
    "#Pega o tamanho da variavel tamanho e faz com que o eixo x pule os valores de 2 em 2\n",
    "tamanho_semana = np.size(semana)\n",
    "eixo_x = np.arange(1,tamanho_semana,2)"
   ]
  },
  {
   "cell_type": "code",
   "execution_count": 49,
   "metadata": {},
   "outputs": [],
   "source": [
    "#Cria a legenda para o grafico\n",
    "legenda = pd.DataFrame(columns = ['Covid-19 confirmado','Covid-19 descartado','Em investigação'])"
   ]
  },
  {
   "cell_type": "code",
   "execution_count": 50,
   "metadata": {},
   "outputs": [
    {
     "data": {
      "text/plain": [
       "'Gráficos 23_3_2022'"
      ]
     },
     "execution_count": 50,
     "metadata": {},
     "output_type": "execute_result"
    }
   ],
   "source": [
    "pasta = r'Z:\\Graficos Boletim_Python'\n",
    "lista_arquivos = os.listdir(pasta)\n",
    "lista_datas = []\n",
    "\n",
    "for arquivo in lista_arquivos:\n",
    "    #Descobrir a data desse arquivo\n",
    "    data = os.path.getmtime(f'{pasta}/{arquivo}')\n",
    "    lista_datas.append((data,arquivo))\n",
    "\n",
    "lista_datas.sort(reverse=True) #Vai ordenar a lista em ordem decrescente com reverse=True Obs: Ele ordena sempre com o primeiro valor, por isso colocamos data antes de arquivo\n",
    "ultima_pasta = lista_datas[0][1] #Pega o ultimo arquivo\n",
    "ultima_pasta"
   ]
  },
  {
   "cell_type": "code",
   "execution_count": 51,
   "metadata": {},
   "outputs": [
    {
     "data": {
      "image/png": "[encoded data removed]",
      "text/plain": [
       "<Figure size 1679.04x992.16 with 1 Axes>"
      ]
     },
     "metadata": {
      "needs_background": "light"
     },
     "output_type": "display_data"
    }
   ],
   "source": [
    "#Plotagem do grafico\n",
    "plt.figure(figsize=(tamanho_semana*0.22,tamanho_semana*0.13))\n",
    "plt.bar(semana,confirmado, color='#8a3e4b',edgecolor='#000000')\n",
    "plt.bar(semana,srag, bottom=confirmado, color = '#b58d94',edgecolor='#000000')\n",
    "plt.bar(semana,nao_informado, bottom = np.array(confirmado)+np.array(srag), color = '#5e5d5d',edgecolor='#000000')\n",
    "sns.despine()\n",
    "plt.legend(legenda, fontsize=30,shadow=True,loc='upper left')\n",
    "#plt.annotate('Primeiro caso\\nhospitalizado por\\nCOVID-19 no RS',xy=(3,620),xytext=(2,1500),arrowprops=dict(arrowstyle='->',connectionstyle='arc3'),fontsize=15,\n",
    "#                bbox=dict(fc=\"white\", ec=\"#000000\", lw=1,pad=10))\n",
    "plt.xticks(eixo_x)\n",
    "plt.xticks(rotation=90,fontsize=20)\n",
    "plt.yticks(eixoy,fontsize=23)\n",
    "plt.xlabel('Semana epidemiólogica da hospitalização',labelpad=20,fontsize=30)\n",
    "plt.ylabel('Casos de SRAG hospitalizados',labelpad=20,fontsize=30)\n",
    "plt.savefig(f'Z:/Graficos Boletim_Python/{ultima_pasta}/Slide4.png',dpi=720,bbox_inches='tight')"
   ]
  },
  {
   "cell_type": "code",
   "execution_count": 52,
   "metadata": {},
   "outputs": [
    {
     "data": {
      "text/plain": [
       "Sem Epi Internacao\n",
       "2021_51     101\n",
       "2021_52     127\n",
       "2022_01     285\n",
       "2022_02     634\n",
       "2022_03    1121\n",
       "2022_04    1281\n",
       "2022_05    1254\n",
       "2022_06     985\n",
       "2022_07     737\n",
       "2022_08     511\n",
       "2022_09     339\n",
       "2022_10     199\n",
       "2022_11     112\n",
       "Name: Classificacao final, dtype: int64"
      ]
     },
     "execution_count": 52,
     "metadata": {},
     "output_type": "execute_result"
    }
   ],
   "source": [
    "zoomConfirmado = confirmado.to_frame()\n",
    "zoomConfirmado = zoomConfirmado['2021_51':]\n",
    "zoomConfirmado = zoomConfirmado['Classificacao final']\n",
    "zoomConfirmado"
   ]
  },
  {
   "cell_type": "code",
   "execution_count": 53,
   "metadata": {},
   "outputs": [
    {
     "data": {
      "text/plain": [
       "Sem Epi Internacao\n",
       "2021_51    314\n",
       "2021_52    377\n",
       "2022_01    441\n",
       "2022_02    456\n",
       "2022_03    379\n",
       "2022_04    383\n",
       "2022_05    258\n",
       "2022_06    212\n",
       "2022_07    205\n",
       "2022_08    218\n",
       "2022_09    173\n",
       "2022_10    185\n",
       "2022_11    124\n",
       "Name: Classificacao final_x, dtype: int64"
      ]
     },
     "execution_count": 53,
     "metadata": {},
     "output_type": "execute_result"
    }
   ],
   "source": [
    "zoomSrag = srag.to_frame()\n",
    "zoomSrag = zoomSrag['2021_51':]\n",
    "zoomSrag = zoomSrag.reset_index()\n",
    "zoomSrag = zoomSrag.set_index('Sem Epi Internacao')\n",
    "#zoomSrag = zoomSrag.reset_index()\n",
    "zoomSrag = zoomSrag['Classificacao final_x']\n",
    "zoomSrag"
   ]
  },
  {
   "cell_type": "code",
   "execution_count": 54,
   "metadata": {},
   "outputs": [],
   "source": [
    "zoomNaoInformado = nao_informado.to_frame()\n",
    "zoomNaoInformado = zoomNaoInformado['2021_51':]\n",
    "zoomNaoInformado = zoomNaoInformado.reset_index()"
   ]
  },
  {
   "cell_type": "code",
   "execution_count": 55,
   "metadata": {},
   "outputs": [
    {
     "data": {
      "text/plain": [
       "0     2021_51\n",
       "1     2021_52\n",
       "2     2022_01\n",
       "3     2022_02\n",
       "4     2022_03\n",
       "5     2022_04\n",
       "6     2022_05\n",
       "7     2022_06\n",
       "8     2022_07\n",
       "9     2022_08\n",
       "10    2022_09\n",
       "11    2022_10\n",
       "12    2022_11\n",
       "Name: Sem Epi Internacao, dtype: object"
      ]
     },
     "execution_count": 55,
     "metadata": {},
     "output_type": "execute_result"
    }
   ],
   "source": [
    "semana = zoomNaoInformado['Sem Epi Internacao']\n",
    "semana"
   ]
  },
  {
   "cell_type": "code",
   "execution_count": 56,
   "metadata": {},
   "outputs": [
    {
     "data": {
      "text/plain": [
       "0     12.0\n",
       "1      6.0\n",
       "2     33.0\n",
       "3     17.0\n",
       "4     23.0\n",
       "5     28.0\n",
       "6     30.0\n",
       "7     25.0\n",
       "8     27.0\n",
       "9     41.0\n",
       "10    18.0\n",
       "11    22.0\n",
       "12    50.0\n",
       "Name: Classificacao final_x, dtype: float64"
      ]
     },
     "execution_count": 56,
     "metadata": {},
     "output_type": "execute_result"
    }
   ],
   "source": [
    "zoomNaoInformado = zoomNaoInformado['Classificacao final_x']\n",
    "zoomNaoInformado"
   ]
  },
  {
   "cell_type": "code",
   "execution_count": 57,
   "metadata": {},
   "outputs": [],
   "source": [
    "#zoomConfirmado = zoomConfirmado['Classificacao final']\n",
    "#zoomSrag = zoomSrag['Classificacao final_x']\n",
    "#zoomNaoInformado = zoomNaoInformado['Classificacao final_x']"
   ]
  },
  {
   "cell_type": "code",
   "execution_count": 58,
   "metadata": {},
   "outputs": [
    {
     "data": {
      "image/png": "[encoded data removed]",
      "text/plain": [
       "<Figure size 720x720 with 1 Axes>"
      ]
     },
     "metadata": {
      "needs_background": "light"
     },
     "output_type": "display_data"
    }
   ],
   "source": [
    "plt.figure(figsize=(10,10))\n",
    "width=0.8\n",
    "plt.bar(semana,zoomConfirmado,width,color='#8a3e4b',edgecolor='#000000')\n",
    "plt.bar(semana,zoomSrag,width,bottom=zoomConfirmado,color = '#b58d94',edgecolor='#000000')\n",
    "plt.bar(semana,zoomNaoInformado,width,bottom=zoomConfirmado+zoomSrag,color = '#5e5d5d',edgecolor='#000000')\n",
    "sns.despine()\n",
    "plt.xticks(fontsize=15,rotation=90)\n",
    "plt.yticks(np.arange(0,2000,200),fontsize=15)\n",
    "plt.savefig(f'Z:/Graficos Boletim_Python/{ultima_pasta}/Slide4_ZOOM.png',dpi=720,bbox_inches='tight')"
   ]
  },
  {
   "cell_type": "code",
   "execution_count": null,
   "metadata": {},
   "outputs": [],
   "source": []
  }
 ],
 "metadata": {
  "interpreter": {
   "hash": "1de187e5902025e922368a2d9f95ab7dc4a859d9f86e50683b5a6b0b3bf7ba31"
  },
  "kernelspec": {
   "display_name": "Python 3.9.7 64-bit ('base': conda)",
   "language": "python",
   "name": "python3"
  },
  "language_info": {
   "codemirror_mode": {
    "name": "ipython",
    "version": 3
   },
   "file_extension": ".py",
   "mimetype": "text/x-python",
   "name": "python",
   "nbconvert_exporter": "python",
   "pygments_lexer": "ipython3",
   "version": "3.9.7"
  },
  "orig_nbformat": 4
 },
 "nbformat": 4,
 "nbformat_minor": 2
}
