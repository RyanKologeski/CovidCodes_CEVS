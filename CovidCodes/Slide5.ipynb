{
 "cells": [
  {
   "cell_type": "code",
   "execution_count": 1,
   "metadata": {},
   "outputs": [],
   "source": [
    "import pandas as pd\n",
    "from pandas import DataFrame\n",
    "import matplotlib.pyplot as plt\n",
    "import numpy as np\n",
    "import os\n",
    "from datetime import date\n",
    "import datetime\n",
    "from pathlib import Path\n",
    "import seaborn as sns"
   ]
  },
  {
   "cell_type": "code",
   "execution_count": 2,
   "metadata": {},
   "outputs": [
    {
     "data": {
      "text/plain": [
       "'Banco SIVEP 23_03_2022 07_34_00.xlsx'"
      ]
     },
     "execution_count": 2,
     "metadata": {},
     "output_type": "execute_result"
    }
   ],
   "source": [
    "caminho = r'Z:\\Banco SIVEP Exportação'\n",
    "lista_arquivos = os.listdir(caminho)\n",
    "lista_datas = []\n",
    "\n",
    "for arquivo in lista_arquivos:\n",
    "    #Descobrir a data desse arquivo\n",
    "    data = os.path.getmtime(f'{caminho}/{arquivo}')\n",
    "    lista_datas.append((data,arquivo))\n",
    "\n",
    "lista_datas.sort(reverse=True) #Vai ordenar a lista em ordem decrescente com reverse=True Obs: Ele ordena sempre com o primeiro valor, por isso colocamos data antes de arquivo\n",
    "ultimo_arquivo = lista_datas[0][1] #Pega o ultimo arquivo\n",
    "ultimo_arquivo"
   ]
  },
  {
   "cell_type": "code",
   "execution_count": 3,
   "metadata": {},
   "outputs": [],
   "source": [
    "if not os.path.exists(f'Z:\\Graficos Boletim_Python/Gráficos {date.today().day}_{date.today().month}_{date.today().year}'):\n",
    "    os.makedirs(f'Z:\\Graficos Boletim_Python/Gráficos {date.today().day}_{date.today().month}_{date.today().year}')"
   ]
  },
  {
   "cell_type": "code",
   "execution_count": 4,
   "metadata": {},
   "outputs": [],
   "source": [
    "dados = pd.read_excel(f'{caminho}/{ultimo_arquivo}')\n",
    "#dados = pd.read_excel('Z:/Banco SIVEP Exportação/Banco SIVEP 16_03_2022 07_33_42.xlsx')"
   ]
  },
  {
   "cell_type": "code",
   "execution_count": 5,
   "metadata": {},
   "outputs": [
    {
     "data": {
      "text/html": [
       "<div>\n",
       "<style scoped>\n",
       "    .dataframe tbody tr th:only-of-type {\n",
       "        vertical-align: middle;\n",
       "    }\n",
       "\n",
       "    .dataframe tbody tr th {\n",
       "        vertical-align: top;\n",
       "    }\n",
       "\n",
       "    .dataframe thead th {\n",
       "        text-align: right;\n",
       "    }\n",
       "</style>\n",
       "<table border=\"1\" class=\"dataframe\">\n",
       "  <thead>\n",
       "    <tr style=\"text-align: right;\">\n",
       "      <th></th>\n",
       "      <th>Sem Epi Evolucao</th>\n",
       "      <th>Classificacao final</th>\n",
       "      <th>Evolucao</th>\n",
       "    </tr>\n",
       "  </thead>\n",
       "  <tbody>\n",
       "    <tr>\n",
       "      <th>0</th>\n",
       "      <td>2020_13</td>\n",
       "      <td>3</td>\n",
       "      <td>3</td>\n",
       "    </tr>\n",
       "    <tr>\n",
       "      <th>1</th>\n",
       "      <td>2020_14</td>\n",
       "      <td>4</td>\n",
       "      <td>4</td>\n",
       "    </tr>\n",
       "    <tr>\n",
       "      <th>2</th>\n",
       "      <td>2020_15</td>\n",
       "      <td>10</td>\n",
       "      <td>10</td>\n",
       "    </tr>\n",
       "    <tr>\n",
       "      <th>3</th>\n",
       "      <td>2020_16</td>\n",
       "      <td>8</td>\n",
       "      <td>8</td>\n",
       "    </tr>\n",
       "    <tr>\n",
       "      <th>4</th>\n",
       "      <td>2020_17</td>\n",
       "      <td>12</td>\n",
       "      <td>12</td>\n",
       "    </tr>\n",
       "    <tr>\n",
       "      <th>...</th>\n",
       "      <td>...</td>\n",
       "      <td>...</td>\n",
       "      <td>...</td>\n",
       "    </tr>\n",
       "    <tr>\n",
       "      <th>100</th>\n",
       "      <td>2022_08</td>\n",
       "      <td>287</td>\n",
       "      <td>287</td>\n",
       "    </tr>\n",
       "    <tr>\n",
       "      <th>101</th>\n",
       "      <td>2022_09</td>\n",
       "      <td>213</td>\n",
       "      <td>213</td>\n",
       "    </tr>\n",
       "    <tr>\n",
       "      <th>102</th>\n",
       "      <td>2022_10</td>\n",
       "      <td>162</td>\n",
       "      <td>162</td>\n",
       "    </tr>\n",
       "    <tr>\n",
       "      <th>103</th>\n",
       "      <td>2022_11</td>\n",
       "      <td>115</td>\n",
       "      <td>115</td>\n",
       "    </tr>\n",
       "    <tr>\n",
       "      <th>104</th>\n",
       "      <td>2022_12</td>\n",
       "      <td>20</td>\n",
       "      <td>20</td>\n",
       "    </tr>\n",
       "  </tbody>\n",
       "</table>\n",
       "<p>105 rows × 3 columns</p>\n",
       "</div>"
      ],
      "text/plain": [
       "    Sem Epi Evolucao  Classificacao final  Evolucao\n",
       "0            2020_13                    3         3\n",
       "1            2020_14                    4         4\n",
       "2            2020_15                   10        10\n",
       "3            2020_16                    8         8\n",
       "4            2020_17                   12        12\n",
       "..               ...                  ...       ...\n",
       "100          2022_08                  287       287\n",
       "101          2022_09                  213       213\n",
       "102          2022_10                  162       162\n",
       "103          2022_11                  115       115\n",
       "104          2022_12                   20        20\n",
       "\n",
       "[105 rows x 3 columns]"
      ]
     },
     "execution_count": 5,
     "metadata": {},
     "output_type": "execute_result"
    }
   ],
   "source": [
    "filtrado = dados[['Sem Epi Evolucao','Classificacao final','Evolucao']]\n",
    "filtrado = filtrado.loc[filtrado['Classificacao final']=='COVID-19']\n",
    "filtrado = filtrado.loc[filtrado['Evolucao']=='Óbito']\n",
    "filtrado = filtrado.groupby('Sem Epi Evolucao').count()\n",
    "filtrado = filtrado.reset_index()\n",
    "filtrado"
   ]
  },
  {
   "cell_type": "code",
   "execution_count": 6,
   "metadata": {},
   "outputs": [
    {
     "data": {
      "text/plain": [
       "0      2020_13\n",
       "1      2020_14\n",
       "2      2020_15\n",
       "3      2020_16\n",
       "4      2020_17\n",
       "        ...   \n",
       "99     2022_07\n",
       "100    2022_08\n",
       "101    2022_09\n",
       "102    2022_10\n",
       "103    2022_11\n",
       "Name: Sem Epi Evolucao, Length: 104, dtype: object"
      ]
     },
     "execution_count": 6,
     "metadata": {},
     "output_type": "execute_result"
    }
   ],
   "source": [
    "semana = filtrado.set_index('Sem Epi Evolucao')\n",
    "semana = semana.drop(['2022_12'])\n",
    "semana = semana.reset_index()\n",
    "semana = semana['Sem Epi Evolucao']\n",
    "semana"
   ]
  },
  {
   "cell_type": "code",
   "execution_count": 7,
   "metadata": {},
   "outputs": [
    {
     "data": {
      "text/plain": [
       "Sem Epi Evolucao\n",
       "2020_13      3\n",
       "2020_14      4\n",
       "2020_15     10\n",
       "2020_16      8\n",
       "2020_17     12\n",
       "          ... \n",
       "2022_07    363\n",
       "2022_08    287\n",
       "2022_09    213\n",
       "2022_10    162\n",
       "2022_11    115\n",
       "Name: Evolucao, Length: 104, dtype: int64"
      ]
     },
     "execution_count": 7,
     "metadata": {},
     "output_type": "execute_result"
    }
   ],
   "source": [
    "obito = filtrado.set_index('Sem Epi Evolucao')\n",
    "obito = obito.drop(['2022_12'])\n",
    "obito = obito['Evolucao']\n",
    "obito"
   ]
  },
  {
   "cell_type": "code",
   "execution_count": 8,
   "metadata": {},
   "outputs": [],
   "source": [
    "legenda = pd.DataFrame(columns={'Óbitos confirmados para COVID-19'})"
   ]
  },
  {
   "cell_type": "code",
   "execution_count": 9,
   "metadata": {},
   "outputs": [
    {
     "data": {
      "text/plain": [
       "'Gráficos 23_3_2022'"
      ]
     },
     "execution_count": 9,
     "metadata": {},
     "output_type": "execute_result"
    }
   ],
   "source": [
    "pasta = r'Z:\\Graficos Boletim_Python'\n",
    "lista_arquivos = os.listdir(pasta)\n",
    "lista_datas = []\n",
    "\n",
    "for arquivo in lista_arquivos:\n",
    "    #Descobrir a data desse arquivo\n",
    "    data = os.path.getmtime(f'{pasta}/{arquivo}')\n",
    "    lista_datas.append((data,arquivo))\n",
    "\n",
    "lista_datas.sort(reverse=True) #Vai ordenar a lista em ordem decrescente com reverse=True Obs: Ele ordena sempre com o primeiro valor, por isso colocamos data antes de arquivo\n",
    "ultima_pasta = lista_datas[0][1] #Pega o ultimo arquivo\n",
    "ultima_pasta"
   ]
  },
  {
   "cell_type": "code",
   "execution_count": 10,
   "metadata": {},
   "outputs": [
    {
     "data": {
      "image/png": "[encoded data removed]",
      "text/plain": [
       "<Figure size 1440x720 with 1 Axes>"
      ]
     },
     "metadata": {
      "needs_background": "light"
     },
     "output_type": "display_data"
    }
   ],
   "source": [
    "plt.figure(figsize=(20,10))\n",
    "plt.bar(semana,obito,color='#8a3e4b')\n",
    "sns.despine()\n",
    "plt.xticks(np.arange(0,np.size(semana),2),rotation=90,fontsize=20)\n",
    "plt.yticks(np.arange(0,2700,300),fontsize=23)\n",
    "plt.xlabel('Semana epidemiológica do óbito',labelpad=25,fontsize=30)\n",
    "plt.ylabel('Número de óbitos por Covid-19',labelpad=25,fontsize=30)\n",
    "plt.savefig(f'Z:/Graficos Boletim_Python/{ultima_pasta}/Slide5.png',dpi=300,bbox_inches='tight')"
   ]
  },
  {
   "cell_type": "code",
   "execution_count": 11,
   "metadata": {},
   "outputs": [
    {
     "data": {
      "text/html": [
       "<div>\n",
       "<style scoped>\n",
       "    .dataframe tbody tr th:only-of-type {\n",
       "        vertical-align: middle;\n",
       "    }\n",
       "\n",
       "    .dataframe tbody tr th {\n",
       "        vertical-align: top;\n",
       "    }\n",
       "\n",
       "    .dataframe thead th {\n",
       "        text-align: right;\n",
       "    }\n",
       "</style>\n",
       "<table border=\"1\" class=\"dataframe\">\n",
       "  <thead>\n",
       "    <tr style=\"text-align: right;\">\n",
       "      <th></th>\n",
       "      <th>Classificacao final</th>\n",
       "      <th>Evolucao</th>\n",
       "    </tr>\n",
       "    <tr>\n",
       "      <th>Sem Epi Evolucao</th>\n",
       "      <th></th>\n",
       "      <th></th>\n",
       "    </tr>\n",
       "  </thead>\n",
       "  <tbody>\n",
       "    <tr>\n",
       "      <th>2021_51</th>\n",
       "      <td>40</td>\n",
       "      <td>40</td>\n",
       "    </tr>\n",
       "    <tr>\n",
       "      <th>2021_52</th>\n",
       "      <td>32</td>\n",
       "      <td>32</td>\n",
       "    </tr>\n",
       "    <tr>\n",
       "      <th>2022_01</th>\n",
       "      <td>40</td>\n",
       "      <td>40</td>\n",
       "    </tr>\n",
       "    <tr>\n",
       "      <th>2022_02</th>\n",
       "      <td>63</td>\n",
       "      <td>63</td>\n",
       "    </tr>\n",
       "    <tr>\n",
       "      <th>2022_03</th>\n",
       "      <td>168</td>\n",
       "      <td>168</td>\n",
       "    </tr>\n",
       "    <tr>\n",
       "      <th>2022_04</th>\n",
       "      <td>281</td>\n",
       "      <td>281</td>\n",
       "    </tr>\n",
       "    <tr>\n",
       "      <th>2022_05</th>\n",
       "      <td>364</td>\n",
       "      <td>364</td>\n",
       "    </tr>\n",
       "    <tr>\n",
       "      <th>2022_06</th>\n",
       "      <td>377</td>\n",
       "      <td>377</td>\n",
       "    </tr>\n",
       "    <tr>\n",
       "      <th>2022_07</th>\n",
       "      <td>363</td>\n",
       "      <td>363</td>\n",
       "    </tr>\n",
       "    <tr>\n",
       "      <th>2022_08</th>\n",
       "      <td>287</td>\n",
       "      <td>287</td>\n",
       "    </tr>\n",
       "    <tr>\n",
       "      <th>2022_09</th>\n",
       "      <td>213</td>\n",
       "      <td>213</td>\n",
       "    </tr>\n",
       "    <tr>\n",
       "      <th>2022_10</th>\n",
       "      <td>162</td>\n",
       "      <td>162</td>\n",
       "    </tr>\n",
       "    <tr>\n",
       "      <th>2022_11</th>\n",
       "      <td>115</td>\n",
       "      <td>115</td>\n",
       "    </tr>\n",
       "  </tbody>\n",
       "</table>\n",
       "</div>"
      ],
      "text/plain": [
       "                  Classificacao final  Evolucao\n",
       "Sem Epi Evolucao                               \n",
       "2021_51                            40        40\n",
       "2021_52                            32        32\n",
       "2022_01                            40        40\n",
       "2022_02                            63        63\n",
       "2022_03                           168       168\n",
       "2022_04                           281       281\n",
       "2022_05                           364       364\n",
       "2022_06                           377       377\n",
       "2022_07                           363       363\n",
       "2022_08                           287       287\n",
       "2022_09                           213       213\n",
       "2022_10                           162       162\n",
       "2022_11                           115       115"
      ]
     },
     "execution_count": 11,
     "metadata": {},
     "output_type": "execute_result"
    }
   ],
   "source": [
    "zoomObito = filtrado\n",
    "zoomObito = zoomObito.set_index('Sem Epi Evolucao')\n",
    "zoomObito = zoomObito.drop(['2022_12'])\n",
    "zoomObito = zoomObito['2021_51':]\n",
    "zoomObito"
   ]
  },
  {
   "cell_type": "code",
   "execution_count": 12,
   "metadata": {},
   "outputs": [
    {
     "data": {
      "text/plain": [
       "0     2021_51\n",
       "1     2021_52\n",
       "2     2022_01\n",
       "3     2022_02\n",
       "4     2022_03\n",
       "5     2022_04\n",
       "6     2022_05\n",
       "7     2022_06\n",
       "8     2022_07\n",
       "9     2022_08\n",
       "10    2022_09\n",
       "11    2022_10\n",
       "12    2022_11\n",
       "Name: Sem Epi Evolucao, dtype: object"
      ]
     },
     "execution_count": 12,
     "metadata": {},
     "output_type": "execute_result"
    }
   ],
   "source": [
    "zoomSemana = zoomObito\n",
    "zoomSemana = zoomSemana.reset_index()\n",
    "zoomSemana = zoomSemana['Sem Epi Evolucao']\n",
    "zoomSemana"
   ]
  },
  {
   "cell_type": "code",
   "execution_count": 13,
   "metadata": {},
   "outputs": [
    {
     "data": {
      "text/plain": [
       "Sem Epi Evolucao\n",
       "2021_51     40\n",
       "2021_52     32\n",
       "2022_01     40\n",
       "2022_02     63\n",
       "2022_03    168\n",
       "2022_04    281\n",
       "2022_05    364\n",
       "2022_06    377\n",
       "2022_07    363\n",
       "2022_08    287\n",
       "2022_09    213\n",
       "2022_10    162\n",
       "2022_11    115\n",
       "Name: Evolucao, dtype: int64"
      ]
     },
     "execution_count": 13,
     "metadata": {},
     "output_type": "execute_result"
    }
   ],
   "source": [
    "zoomObito = zoomObito['Evolucao']\n",
    "zoomObito"
   ]
  },
  {
   "cell_type": "code",
   "execution_count": 14,
   "metadata": {},
   "outputs": [
    {
     "data": {
      "image/png": "[encoded data removed]",
      "text/plain": [
       "<Figure size 360x720 with 1 Axes>"
      ]
     },
     "metadata": {
      "needs_background": "light"
     },
     "output_type": "display_data"
    }
   ],
   "source": [
    "plt.figure(figsize=(5,10))\n",
    "width=0.8\n",
    "plt.bar(zoomSemana,zoomObito,width,color='#8a3e4b',edgecolor='white')\n",
    "sns.despine()\n",
    "plt.xticks(fontsize=15,rotation=90)\n",
    "plt.yticks(np.arange(0,400,20),fontsize=15)\n",
    "plt.savefig(f'Z:/Graficos Boletim_Python/{ultima_pasta}/Slide5_ZOOM.png',dpi=300,bbox_inches='tight')"
   ]
  },
  {
   "cell_type": "code",
   "execution_count": null,
   "metadata": {},
   "outputs": [],
   "source": []
  }
 ],
 "metadata": {
  "interpreter": {
   "hash": "1de187e5902025e922368a2d9f95ab7dc4a859d9f86e50683b5a6b0b3bf7ba31"
  },
  "kernelspec": {
   "display_name": "Python 3.9.7 64-bit ('base': conda)",
   "language": "python",
   "name": "python3"
  },
  "language_info": {
   "codemirror_mode": {
    "name": "ipython",
    "version": 3
   },
   "file_extension": ".py",
   "mimetype": "text/x-python",
   "name": "python",
   "nbconvert_exporter": "python",
   "pygments_lexer": "ipython3",
   "version": "3.9.7"
  },
  "orig_nbformat": 4
 },
 "nbformat": 4,
 "nbformat_minor": 2
}
