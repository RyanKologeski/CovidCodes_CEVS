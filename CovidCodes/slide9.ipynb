{
 "cells": [
  {
   "cell_type": "code",
   "execution_count": 1,
   "metadata": {},
   "outputs": [],
   "source": [
    "import pandas as pd\n",
    "from pandas import DataFrame\n",
    "import matplotlib.pyplot as plt\n",
    "import numpy as np\n",
    "import os\n",
    "from datetime import date\n",
    "import datetime\n",
    "from pathlib import Path\n",
    "import statistics as st\n",
    "import seaborn as sns"
   ]
  },
  {
   "cell_type": "code",
   "execution_count": 2,
   "metadata": {},
   "outputs": [
    {
     "data": {
      "text/plain": [
       "'Banco SIVEP 23_03_2022 07_34_00.xlsx'"
      ]
     },
     "execution_count": 2,
     "metadata": {},
     "output_type": "execute_result"
    }
   ],
   "source": [
    "caminho = r'Z:\\Banco SIVEP Exportação'\n",
    "lista_arquivos = os.listdir(caminho)\n",
    "lista_datas = []\n",
    "\n",
    "for arquivo in lista_arquivos:\n",
    "    #Descobrir a data desse arquivo\n",
    "    data = os.path.getmtime(f'{caminho}/{arquivo}')\n",
    "    lista_datas.append((data,arquivo))\n",
    "\n",
    "lista_datas.sort(reverse=True) #Vai ordenar a lista em ordem decrescente com reverse=True Obs: Ele ordena sempre com o primeiro valor, por isso colocamos data antes de arquivo\n",
    "ultimo_arquivo = lista_datas[0][1] #Pega o ultimo arquivo\n",
    "ultimo_arquivo"
   ]
  },
  {
   "cell_type": "code",
   "execution_count": 3,
   "metadata": {},
   "outputs": [],
   "source": [
    "if not os.path.exists(f'Z:\\Graficos Boletim_Python/Gráficos {date.today().day}_{date.today().month}_{date.today().year}'):\n",
    "    os.makedirs(f'Z:\\Graficos Boletim_Python/Gráficos {date.today().day}_{date.today().month}_{date.today().year}')"
   ]
  },
  {
   "cell_type": "code",
   "execution_count": 4,
   "metadata": {},
   "outputs": [],
   "source": [
    "dados = pd.read_excel(f'{caminho}/{ultimo_arquivo}')\n",
    "#dados = pd.read_excel('Z:/Banco SIVEP Exportação/Banco SIVEP 16_03_2022 07_33_42.xlsx')"
   ]
  },
  {
   "cell_type": "code",
   "execution_count": 5,
   "metadata": {},
   "outputs": [
    {
     "data": {
      "text/html": [
       "<div>\n",
       "<style scoped>\n",
       "    .dataframe tbody tr th:only-of-type {\n",
       "        vertical-align: middle;\n",
       "    }\n",
       "\n",
       "    .dataframe tbody tr th {\n",
       "        vertical-align: top;\n",
       "    }\n",
       "\n",
       "    .dataframe thead th {\n",
       "        text-align: right;\n",
       "    }\n",
       "</style>\n",
       "<table border=\"1\" class=\"dataframe\">\n",
       "  <thead>\n",
       "    <tr style=\"text-align: right;\">\n",
       "      <th></th>\n",
       "      <th>Competencia Evolucao</th>\n",
       "      <th>Classificacao final</th>\n",
       "      <th>Evolucao</th>\n",
       "      <th>Dias Perm Hospital</th>\n",
       "    </tr>\n",
       "  </thead>\n",
       "  <tbody>\n",
       "    <tr>\n",
       "      <th>11</th>\n",
       "      <td>2020_04</td>\n",
       "      <td>COVID-19</td>\n",
       "      <td>Cura</td>\n",
       "      <td>7.0</td>\n",
       "    </tr>\n",
       "    <tr>\n",
       "      <th>17</th>\n",
       "      <td>2020_04</td>\n",
       "      <td>COVID-19</td>\n",
       "      <td>Cura</td>\n",
       "      <td>6.0</td>\n",
       "    </tr>\n",
       "    <tr>\n",
       "      <th>18</th>\n",
       "      <td>2020_04</td>\n",
       "      <td>COVID-19</td>\n",
       "      <td>Cura</td>\n",
       "      <td>5.0</td>\n",
       "    </tr>\n",
       "    <tr>\n",
       "      <th>19</th>\n",
       "      <td>2020_04</td>\n",
       "      <td>COVID-19</td>\n",
       "      <td>Cura</td>\n",
       "      <td>2.0</td>\n",
       "    </tr>\n",
       "    <tr>\n",
       "      <th>23</th>\n",
       "      <td>2020_04</td>\n",
       "      <td>COVID-19</td>\n",
       "      <td>Cura</td>\n",
       "      <td>11.0</td>\n",
       "    </tr>\n",
       "    <tr>\n",
       "      <th>...</th>\n",
       "      <td>...</td>\n",
       "      <td>...</td>\n",
       "      <td>...</td>\n",
       "      <td>...</td>\n",
       "    </tr>\n",
       "    <tr>\n",
       "      <th>168335</th>\n",
       "      <td>2021_03</td>\n",
       "      <td>COVID-19</td>\n",
       "      <td>Óbito</td>\n",
       "      <td>13.0</td>\n",
       "    </tr>\n",
       "    <tr>\n",
       "      <th>168336</th>\n",
       "      <td>2021_06</td>\n",
       "      <td>COVID-19</td>\n",
       "      <td>Óbito</td>\n",
       "      <td>14.0</td>\n",
       "    </tr>\n",
       "    <tr>\n",
       "      <th>168337</th>\n",
       "      <td>2021_11</td>\n",
       "      <td>COVID-19</td>\n",
       "      <td>Óbito</td>\n",
       "      <td>10.0</td>\n",
       "    </tr>\n",
       "    <tr>\n",
       "      <th>168338</th>\n",
       "      <td>2021_12</td>\n",
       "      <td>COVID-19</td>\n",
       "      <td>Óbito</td>\n",
       "      <td>57.0</td>\n",
       "    </tr>\n",
       "    <tr>\n",
       "      <th>168339</th>\n",
       "      <td>NaN</td>\n",
       "      <td>COVID-19</td>\n",
       "      <td>Ignorado</td>\n",
       "      <td>0.0</td>\n",
       "    </tr>\n",
       "  </tbody>\n",
       "</table>\n",
       "<p>122988 rows × 4 columns</p>\n",
       "</div>"
      ],
      "text/plain": [
       "       Competencia Evolucao Classificacao final  Evolucao  Dias Perm Hospital\n",
       "11                  2020_04            COVID-19      Cura                 7.0\n",
       "17                  2020_04            COVID-19      Cura                 6.0\n",
       "18                  2020_04            COVID-19      Cura                 5.0\n",
       "19                  2020_04            COVID-19      Cura                 2.0\n",
       "23                  2020_04            COVID-19      Cura                11.0\n",
       "...                     ...                 ...       ...                 ...\n",
       "168335              2021_03            COVID-19     Óbito                13.0\n",
       "168336              2021_06            COVID-19     Óbito                14.0\n",
       "168337              2021_11            COVID-19     Óbito                10.0\n",
       "168338              2021_12            COVID-19     Óbito                57.0\n",
       "168339                  NaN            COVID-19  Ignorado                 0.0\n",
       "\n",
       "[122988 rows x 4 columns]"
      ]
     },
     "execution_count": 5,
     "metadata": {},
     "output_type": "execute_result"
    }
   ],
   "source": [
    "filtrado = dados[['Competencia Evolucao','Classificacao final','Evolucao','Dias Perm Hospital']]\n",
    "filtrado = filtrado.loc[filtrado['Classificacao final']=='COVID-19']\n",
    "filtrado"
   ]
  },
  {
   "cell_type": "code",
   "execution_count": 6,
   "metadata": {},
   "outputs": [],
   "source": [
    "cura = filtrado.loc[filtrado['Evolucao']=='Cura']\n",
    "cura = cura.groupby(['Competencia Evolucao']).median()\n",
    "cura = cura.drop(['2020_03'])\n",
    "cura = cura.reset_index()\n",
    "#cura[cura['Sem Epi Evolucao']=='2021_44']"
   ]
  },
  {
   "cell_type": "code",
   "execution_count": 7,
   "metadata": {},
   "outputs": [],
   "source": [
    "cura = cura['Dias Perm Hospital']"
   ]
  },
  {
   "cell_type": "code",
   "execution_count": 8,
   "metadata": {},
   "outputs": [],
   "source": [
    "obito = filtrado.loc[filtrado['Evolucao']=='Óbito']\n",
    "obito = obito.groupby(['Competencia Evolucao']).median()\n",
    "obito = obito.drop(['2020_03'])\n",
    "obito = obito.reset_index()\n",
    "#cura[cura['Sem Epi Evolucao']=='2021_44']"
   ]
  },
  {
   "cell_type": "code",
   "execution_count": 9,
   "metadata": {},
   "outputs": [],
   "source": [
    "semana = obito['Competencia Evolucao']"
   ]
  },
  {
   "cell_type": "code",
   "execution_count": 10,
   "metadata": {},
   "outputs": [],
   "source": [
    "obito = obito['Dias Perm Hospital']"
   ]
  },
  {
   "cell_type": "code",
   "execution_count": 11,
   "metadata": {},
   "outputs": [
    {
     "data": {
      "text/plain": [
       "'Gráficos 23_3_2022'"
      ]
     },
     "execution_count": 11,
     "metadata": {},
     "output_type": "execute_result"
    }
   ],
   "source": [
    "pasta = r'Z:\\Graficos Boletim_Python'\n",
    "lista_arquivos = os.listdir(pasta)\n",
    "lista_datas = []\n",
    "\n",
    "for arquivo in lista_arquivos:\n",
    "    #Descobrir a data desse arquivo\n",
    "    data = os.path.getmtime(f'{pasta}/{arquivo}')\n",
    "    lista_datas.append((data,arquivo))\n",
    "\n",
    "lista_datas.sort(reverse=True) #Vai ordenar a lista em ordem decrescente com reverse=True Obs: Ele ordena sempre com o primeiro valor, por isso colocamos data antes de arquivo\n",
    "ultima_pasta = lista_datas[0][1] #Pega o ultimo arquivo\n",
    "ultima_pasta"
   ]
  },
  {
   "cell_type": "code",
   "execution_count": 12,
   "metadata": {},
   "outputs": [],
   "source": [
    "legenda = pd.DataFrame(columns=['Óbito','Alta'])"
   ]
  },
  {
   "cell_type": "code",
   "execution_count": 13,
   "metadata": {},
   "outputs": [
    {
     "data": {
      "image/png": "[encoded data removed]",
      "text/plain": [
       "<Figure size 2160x720 with 1 Axes>"
      ]
     },
     "metadata": {
      "needs_background": "light"
     },
     "output_type": "display_data"
    }
   ],
   "source": [
    "plt.figure(figsize=(30,10))\n",
    "plt.plot(semana,obito,color='#8a3e4b',linewidth=3)\n",
    "plt.plot(semana,cura,color='#9bbfa8',linewidth=3)\n",
    "sns.despine()\n",
    "plt.xlabel('Mês da Evolução',labelpad=25,fontsize=25)\n",
    "plt.ylabel('Mediana de dias entre a internação e o desfecho',labelpad=25,fontsize=25)\n",
    "plt.xticks(np.arange(0,np.size(semana),1),rotation=90,fontsize=20)\n",
    "plt.yticks(np.arange(0,19,1),fontsize=20)\n",
    "plt.legend(legenda,fontsize=25,shadow=True,loc='upper left')\n",
    "plt.grid(axis='y')\n",
    "plt.savefig(f'Z:/Graficos Boletim_Python/{ultima_pasta}/Slide9.png',dpi=720,bbox_inches='tight')"
   ]
  },
  {
   "cell_type": "code",
   "execution_count": 14,
   "metadata": {},
   "outputs": [
    {
     "data": {
      "text/html": [
       "<div>\n",
       "<style scoped>\n",
       "    .dataframe tbody tr th:only-of-type {\n",
       "        vertical-align: middle;\n",
       "    }\n",
       "\n",
       "    .dataframe tbody tr th {\n",
       "        vertical-align: top;\n",
       "    }\n",
       "\n",
       "    .dataframe thead th {\n",
       "        text-align: right;\n",
       "    }\n",
       "</style>\n",
       "<table border=\"1\" class=\"dataframe\">\n",
       "  <thead>\n",
       "    <tr style=\"text-align: right;\">\n",
       "      <th></th>\n",
       "      <th>Faixa Etaria</th>\n",
       "      <th>Competencia Evolucao</th>\n",
       "      <th>Classificacao final</th>\n",
       "      <th>Evolucao</th>\n",
       "      <th>Dias Perm Hospital</th>\n",
       "    </tr>\n",
       "  </thead>\n",
       "  <tbody>\n",
       "    <tr>\n",
       "      <th>11</th>\n",
       "      <td>0-59 anos</td>\n",
       "      <td>2020_04</td>\n",
       "      <td>COVID-19</td>\n",
       "      <td>Cura</td>\n",
       "      <td>7.0</td>\n",
       "    </tr>\n",
       "    <tr>\n",
       "      <th>17</th>\n",
       "      <td>0-59 anos</td>\n",
       "      <td>2020_04</td>\n",
       "      <td>COVID-19</td>\n",
       "      <td>Cura</td>\n",
       "      <td>6.0</td>\n",
       "    </tr>\n",
       "    <tr>\n",
       "      <th>18</th>\n",
       "      <td>0-59 anos</td>\n",
       "      <td>2020_04</td>\n",
       "      <td>COVID-19</td>\n",
       "      <td>Cura</td>\n",
       "      <td>5.0</td>\n",
       "    </tr>\n",
       "    <tr>\n",
       "      <th>19</th>\n",
       "      <td>0-59 anos</td>\n",
       "      <td>2020_04</td>\n",
       "      <td>COVID-19</td>\n",
       "      <td>Cura</td>\n",
       "      <td>2.0</td>\n",
       "    </tr>\n",
       "    <tr>\n",
       "      <th>23</th>\n",
       "      <td>0-59 anos</td>\n",
       "      <td>2020_04</td>\n",
       "      <td>COVID-19</td>\n",
       "      <td>Cura</td>\n",
       "      <td>11.0</td>\n",
       "    </tr>\n",
       "    <tr>\n",
       "      <th>...</th>\n",
       "      <td>...</td>\n",
       "      <td>...</td>\n",
       "      <td>...</td>\n",
       "      <td>...</td>\n",
       "      <td>...</td>\n",
       "    </tr>\n",
       "    <tr>\n",
       "      <th>168316</th>\n",
       "      <td>0-59 anos</td>\n",
       "      <td>2021_12</td>\n",
       "      <td>COVID-19</td>\n",
       "      <td>Cura</td>\n",
       "      <td>3.0</td>\n",
       "    </tr>\n",
       "    <tr>\n",
       "      <th>168326</th>\n",
       "      <td>0-59 anos</td>\n",
       "      <td>2022_01</td>\n",
       "      <td>COVID-19</td>\n",
       "      <td>Cura</td>\n",
       "      <td>3.0</td>\n",
       "    </tr>\n",
       "    <tr>\n",
       "      <th>168330</th>\n",
       "      <td>0-59 anos</td>\n",
       "      <td>2022_03</td>\n",
       "      <td>COVID-19</td>\n",
       "      <td>Cura</td>\n",
       "      <td>2.0</td>\n",
       "    </tr>\n",
       "    <tr>\n",
       "      <th>168331</th>\n",
       "      <td>0-59 anos</td>\n",
       "      <td>2020_09</td>\n",
       "      <td>COVID-19</td>\n",
       "      <td>Óbito</td>\n",
       "      <td>31.0</td>\n",
       "    </tr>\n",
       "    <tr>\n",
       "      <th>168336</th>\n",
       "      <td>0-59 anos</td>\n",
       "      <td>2021_06</td>\n",
       "      <td>COVID-19</td>\n",
       "      <td>Óbito</td>\n",
       "      <td>14.0</td>\n",
       "    </tr>\n",
       "  </tbody>\n",
       "</table>\n",
       "<p>60268 rows × 5 columns</p>\n",
       "</div>"
      ],
      "text/plain": [
       "       Faixa Etaria Competencia Evolucao Classificacao final Evolucao  \\\n",
       "11        0-59 anos              2020_04            COVID-19     Cura   \n",
       "17        0-59 anos              2020_04            COVID-19     Cura   \n",
       "18        0-59 anos              2020_04            COVID-19     Cura   \n",
       "19        0-59 anos              2020_04            COVID-19     Cura   \n",
       "23        0-59 anos              2020_04            COVID-19     Cura   \n",
       "...             ...                  ...                 ...      ...   \n",
       "168316    0-59 anos              2021_12            COVID-19     Cura   \n",
       "168326    0-59 anos              2022_01            COVID-19     Cura   \n",
       "168330    0-59 anos              2022_03            COVID-19     Cura   \n",
       "168331    0-59 anos              2020_09            COVID-19    Óbito   \n",
       "168336    0-59 anos              2021_06            COVID-19    Óbito   \n",
       "\n",
       "        Dias Perm Hospital  \n",
       "11                     7.0  \n",
       "17                     6.0  \n",
       "18                     5.0  \n",
       "19                     2.0  \n",
       "23                    11.0  \n",
       "...                    ...  \n",
       "168316                 3.0  \n",
       "168326                 3.0  \n",
       "168330                 2.0  \n",
       "168331                31.0  \n",
       "168336                14.0  \n",
       "\n",
       "[60268 rows x 5 columns]"
      ]
     },
     "execution_count": 14,
     "metadata": {},
     "output_type": "execute_result"
    }
   ],
   "source": [
    "grafico_0a59 = dados[['Faixa Etaria','Competencia Evolucao','Classificacao final','Evolucao','Dias Perm Hospital']]\n",
    "grafico_0a59 = grafico_0a59.loc[grafico_0a59['Classificacao final']=='COVID-19']\n",
    "grafico_0a59['Faixa Etaria'] = grafico_0a59['Faixa Etaria'].map({'0-9 anos':'0-59 anos','10-19 anos':'0-59 anos','20-29 anos':'0-59 anos','30-39 anos':'0-59 anos','40-49 anos':'0-59 anos',\n",
    "'50-59 anos':'0-59 anos'})\n",
    "grafico_0a59 = grafico_0a59.loc[grafico_0a59['Faixa Etaria']=='0-59 anos']\n",
    "grafico_0a59"
   ]
  },
  {
   "cell_type": "code",
   "execution_count": 15,
   "metadata": {},
   "outputs": [],
   "source": [
    "cura_0a59 = grafico_0a59.loc[grafico_0a59['Evolucao']=='Cura']\n",
    "cura_0a59 = cura_0a59.groupby(['Competencia Evolucao']).median()\n",
    "cura_0a59 = cura_0a59.drop('2020_03')\n",
    "cura_0a59 = cura_0a59.reset_index()\n",
    "cura_0a59 = cura_0a59['Dias Perm Hospital']"
   ]
  },
  {
   "cell_type": "code",
   "execution_count": 16,
   "metadata": {},
   "outputs": [],
   "source": [
    "obito_0a59 = grafico_0a59.loc[grafico_0a59['Evolucao']=='Óbito']\n",
    "obito_0a59 = obito_0a59.groupby(['Competencia Evolucao']).median()\n",
    "obito_0a59 = obito_0a59.reset_index()"
   ]
  },
  {
   "cell_type": "code",
   "execution_count": 17,
   "metadata": {},
   "outputs": [],
   "source": [
    "semana_0a59 = obito_0a59['Competencia Evolucao']"
   ]
  },
  {
   "cell_type": "code",
   "execution_count": 18,
   "metadata": {},
   "outputs": [],
   "source": [
    "obito_0a59 = obito_0a59['Dias Perm Hospital']"
   ]
  },
  {
   "cell_type": "code",
   "execution_count": 19,
   "metadata": {},
   "outputs": [
    {
     "data": {
      "text/plain": [
       "\"plt.figure(figsize=(30,10))\\nplt.plot(semana_0a59,obito_0a59,color='#8a3e4b',linewidth=3)\\nplt.plot(semana_0a59,cura_0a59,color='#9bbfa8',linewidth=3)\\nsns.despine()\\nplt.xlabel('Mês da Evolução',labelpad=25,fontsize=25)\\nplt.ylabel('Mediana de dias entre a internação e o desfecho',labelpad=25,fontsize=25)\\nplt.xticks(np.arange(0,np.size(semana_0a59),1),rotation=90,fontsize=20)\\nplt.yticks(np.arange(0,25,1),fontsize=20)\\nplt.legend(legenda,fontsize=25,shadow=True)\\nplt.grid(axis='y')\\nplt.savefig(f'Z:/Graficos Boletim_Python/{ultima_pasta}/Slide9_0a59 anos.png',dpi=720,bbox_inches='tight')\""
      ]
     },
     "execution_count": 19,
     "metadata": {},
     "output_type": "execute_result"
    }
   ],
   "source": [
    "'''plt.figure(figsize=(30,10))\n",
    "plt.plot(semana_0a59,obito_0a59,color='#8a3e4b',linewidth=3)\n",
    "plt.plot(semana_0a59,cura_0a59,color='#9bbfa8',linewidth=3)\n",
    "sns.despine()\n",
    "plt.xlabel('Mês da Evolução',labelpad=25,fontsize=25)\n",
    "plt.ylabel('Mediana de dias entre a internação e o desfecho',labelpad=25,fontsize=25)\n",
    "plt.xticks(np.arange(0,np.size(semana_0a59),1),rotation=90,fontsize=20)\n",
    "plt.yticks(np.arange(0,25,1),fontsize=20)\n",
    "plt.legend(legenda,fontsize=25,shadow=True)\n",
    "plt.grid(axis='y')\n",
    "plt.savefig(f'Z:/Graficos Boletim_Python/{ultima_pasta}/Slide9_0a59 anos.png',dpi=720,bbox_inches='tight')'''"
   ]
  },
  {
   "cell_type": "code",
   "execution_count": 20,
   "metadata": {},
   "outputs": [
    {
     "data": {
      "text/html": [
       "<div>\n",
       "<style scoped>\n",
       "    .dataframe tbody tr th:only-of-type {\n",
       "        vertical-align: middle;\n",
       "    }\n",
       "\n",
       "    .dataframe tbody tr th {\n",
       "        vertical-align: top;\n",
       "    }\n",
       "\n",
       "    .dataframe thead th {\n",
       "        text-align: right;\n",
       "    }\n",
       "</style>\n",
       "<table border=\"1\" class=\"dataframe\">\n",
       "  <thead>\n",
       "    <tr style=\"text-align: right;\">\n",
       "      <th></th>\n",
       "      <th>Faixa Etaria</th>\n",
       "      <th>Competencia Evolucao</th>\n",
       "      <th>Classificacao final</th>\n",
       "      <th>Evolucao</th>\n",
       "      <th>Dias Perm Hospital</th>\n",
       "    </tr>\n",
       "  </thead>\n",
       "  <tbody>\n",
       "    <tr>\n",
       "      <th>37</th>\n",
       "      <td>60 anos e mais</td>\n",
       "      <td>2020_04</td>\n",
       "      <td>COVID-19</td>\n",
       "      <td>Óbito</td>\n",
       "      <td>6.0</td>\n",
       "    </tr>\n",
       "    <tr>\n",
       "      <th>71</th>\n",
       "      <td>60 anos e mais</td>\n",
       "      <td>2020_05</td>\n",
       "      <td>COVID-19</td>\n",
       "      <td>Cura</td>\n",
       "      <td>4.0</td>\n",
       "    </tr>\n",
       "    <tr>\n",
       "      <th>83</th>\n",
       "      <td>60 anos e mais</td>\n",
       "      <td>2020_05</td>\n",
       "      <td>COVID-19</td>\n",
       "      <td>Óbito</td>\n",
       "      <td>11.0</td>\n",
       "    </tr>\n",
       "    <tr>\n",
       "      <th>85</th>\n",
       "      <td>60 anos e mais</td>\n",
       "      <td>2020_06</td>\n",
       "      <td>COVID-19</td>\n",
       "      <td>Cura</td>\n",
       "      <td>22.0</td>\n",
       "    </tr>\n",
       "    <tr>\n",
       "      <th>91</th>\n",
       "      <td>60 anos e mais</td>\n",
       "      <td>2020_06</td>\n",
       "      <td>COVID-19</td>\n",
       "      <td>Cura</td>\n",
       "      <td>23.0</td>\n",
       "    </tr>\n",
       "    <tr>\n",
       "      <th>...</th>\n",
       "      <td>...</td>\n",
       "      <td>...</td>\n",
       "      <td>...</td>\n",
       "      <td>...</td>\n",
       "      <td>...</td>\n",
       "    </tr>\n",
       "    <tr>\n",
       "      <th>168333</th>\n",
       "      <td>60 anos e mais</td>\n",
       "      <td>2021_03</td>\n",
       "      <td>COVID-19</td>\n",
       "      <td>Cura</td>\n",
       "      <td>12.0</td>\n",
       "    </tr>\n",
       "    <tr>\n",
       "      <th>168335</th>\n",
       "      <td>60 anos e mais</td>\n",
       "      <td>2021_03</td>\n",
       "      <td>COVID-19</td>\n",
       "      <td>Óbito</td>\n",
       "      <td>13.0</td>\n",
       "    </tr>\n",
       "    <tr>\n",
       "      <th>168337</th>\n",
       "      <td>60 anos e mais</td>\n",
       "      <td>2021_11</td>\n",
       "      <td>COVID-19</td>\n",
       "      <td>Óbito</td>\n",
       "      <td>10.0</td>\n",
       "    </tr>\n",
       "    <tr>\n",
       "      <th>168338</th>\n",
       "      <td>60 anos e mais</td>\n",
       "      <td>2021_12</td>\n",
       "      <td>COVID-19</td>\n",
       "      <td>Óbito</td>\n",
       "      <td>57.0</td>\n",
       "    </tr>\n",
       "    <tr>\n",
       "      <th>168339</th>\n",
       "      <td>60 anos e mais</td>\n",
       "      <td>NaN</td>\n",
       "      <td>COVID-19</td>\n",
       "      <td>Ignorado</td>\n",
       "      <td>0.0</td>\n",
       "    </tr>\n",
       "  </tbody>\n",
       "</table>\n",
       "<p>62720 rows × 5 columns</p>\n",
       "</div>"
      ],
      "text/plain": [
       "          Faixa Etaria Competencia Evolucao Classificacao final  Evolucao  \\\n",
       "37      60 anos e mais              2020_04            COVID-19     Óbito   \n",
       "71      60 anos e mais              2020_05            COVID-19      Cura   \n",
       "83      60 anos e mais              2020_05            COVID-19     Óbito   \n",
       "85      60 anos e mais              2020_06            COVID-19      Cura   \n",
       "91      60 anos e mais              2020_06            COVID-19      Cura   \n",
       "...                ...                  ...                 ...       ...   \n",
       "168333  60 anos e mais              2021_03            COVID-19      Cura   \n",
       "168335  60 anos e mais              2021_03            COVID-19     Óbito   \n",
       "168337  60 anos e mais              2021_11            COVID-19     Óbito   \n",
       "168338  60 anos e mais              2021_12            COVID-19     Óbito   \n",
       "168339  60 anos e mais                  NaN            COVID-19  Ignorado   \n",
       "\n",
       "        Dias Perm Hospital  \n",
       "37                     6.0  \n",
       "71                     4.0  \n",
       "83                    11.0  \n",
       "85                    22.0  \n",
       "91                    23.0  \n",
       "...                    ...  \n",
       "168333                12.0  \n",
       "168335                13.0  \n",
       "168337                10.0  \n",
       "168338                57.0  \n",
       "168339                 0.0  \n",
       "\n",
       "[62720 rows x 5 columns]"
      ]
     },
     "execution_count": 20,
     "metadata": {},
     "output_type": "execute_result"
    }
   ],
   "source": [
    "grafico_60Mais = dados[['Faixa Etaria','Competencia Evolucao','Classificacao final','Evolucao','Dias Perm Hospital']]\n",
    "grafico_60Mais = grafico_60Mais.loc[grafico_60Mais['Classificacao final']=='COVID-19']\n",
    "grafico_60Mais['Faixa Etaria'] = grafico_60Mais['Faixa Etaria'].map({'60-69 anos':'60 anos e mais','70-79 anos':'60 anos e mais','80 e mais anos':'60 anos e mais'})\n",
    "grafico_60Mais = grafico_60Mais.loc[grafico_60Mais['Faixa Etaria']=='60 anos e mais']\n",
    "grafico_60Mais"
   ]
  },
  {
   "cell_type": "code",
   "execution_count": 21,
   "metadata": {},
   "outputs": [],
   "source": [
    "cura_60Mais = grafico_60Mais.loc[grafico_60Mais['Evolucao']=='Cura']\n",
    "cura_60Mais = cura_60Mais.groupby(['Competencia Evolucao']).median()\n",
    "cura_60Mais = cura_60Mais.drop('2020_03')\n",
    "cura_60Mais = cura_60Mais.reset_index()\n",
    "cura_60Mais = cura_60Mais['Dias Perm Hospital']"
   ]
  },
  {
   "cell_type": "code",
   "execution_count": 22,
   "metadata": {},
   "outputs": [],
   "source": [
    "obito_60Mais = grafico_60Mais.loc[grafico_60Mais['Evolucao']=='Óbito']\n",
    "obito_60Mais = obito_60Mais.groupby(['Competencia Evolucao']).median()\n",
    "obito_60Mais = obito_60Mais.drop('2020_03')\n",
    "obito_60Mais = obito_60Mais.reset_index()"
   ]
  },
  {
   "cell_type": "code",
   "execution_count": 23,
   "metadata": {},
   "outputs": [],
   "source": [
    "semana_60Mais = obito_60Mais['Competencia Evolucao']"
   ]
  },
  {
   "cell_type": "code",
   "execution_count": 24,
   "metadata": {},
   "outputs": [],
   "source": [
    "obito_60Mais = obito_60Mais['Dias Perm Hospital']"
   ]
  },
  {
   "cell_type": "code",
   "execution_count": 25,
   "metadata": {},
   "outputs": [
    {
     "data": {
      "text/plain": [
       "\"plt.figure(figsize=(30,10))\\nplt.plot(semana_60Mais,obito_60Mais,color='#8a3e4b',linewidth=3)\\nplt.plot(semana_60Mais,cura_60Mais,color='#9bbfa8',linewidth=3)\\nsns.despine()\\nplt.xlabel('Mês da Evolução',labelpad=25,fontsize=25)\\nplt.ylabel('Mediana de dias entre a internação e o desfecho',labelpad=25,fontsize=25)\\nplt.xticks(np.arange(0,np.size(semana_60Mais),1),rotation=90,fontsize=20)\\nplt.yticks(np.arange(0,25,1),fontsize=20)\\nplt.legend(legenda,fontsize=25,shadow=True)\\nplt.grid(axis='y')\\nplt.savefig(f'Z:/Graficos Boletim_Python/{ultima_pasta}/Slide9_60Mais anos.png',dpi=720,bbox_inches='tight')\""
      ]
     },
     "execution_count": 25,
     "metadata": {},
     "output_type": "execute_result"
    }
   ],
   "source": [
    "'''plt.figure(figsize=(30,10))\n",
    "plt.plot(semana_60Mais,obito_60Mais,color='#8a3e4b',linewidth=3)\n",
    "plt.plot(semana_60Mais,cura_60Mais,color='#9bbfa8',linewidth=3)\n",
    "sns.despine()\n",
    "plt.xlabel('Mês da Evolução',labelpad=25,fontsize=25)\n",
    "plt.ylabel('Mediana de dias entre a internação e o desfecho',labelpad=25,fontsize=25)\n",
    "plt.xticks(np.arange(0,np.size(semana_60Mais),1),rotation=90,fontsize=20)\n",
    "plt.yticks(np.arange(0,25,1),fontsize=20)\n",
    "plt.legend(legenda,fontsize=25,shadow=True)\n",
    "plt.grid(axis='y')\n",
    "plt.savefig(f'Z:/Graficos Boletim_Python/{ultima_pasta}/Slide9_60Mais anos.png',dpi=720,bbox_inches='tight')'''"
   ]
  },
  {
   "cell_type": "code",
   "execution_count": null,
   "metadata": {},
   "outputs": [],
   "source": []
  }
 ],
 "metadata": {
  "interpreter": {
   "hash": "1de187e5902025e922368a2d9f95ab7dc4a859d9f86e50683b5a6b0b3bf7ba31"
  },
  "kernelspec": {
   "display_name": "Python 3.9.7 64-bit ('base': conda)",
   "language": "python",
   "name": "python3"
  },
  "language_info": {
   "codemirror_mode": {
    "name": "ipython",
    "version": 3
   },
   "file_extension": ".py",
   "mimetype": "text/x-python",
   "name": "python",
   "nbconvert_exporter": "python",
   "pygments_lexer": "ipython3",
   "version": "3.9.7"
  },
  "orig_nbformat": 4
 },
 "nbformat": 4,
 "nbformat_minor": 2
}
