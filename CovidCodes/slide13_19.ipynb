{
 "cells": [
  {
   "cell_type": "code",
   "execution_count": 1,
   "metadata": {},
   "outputs": [],
   "source": [
    "import pandas as pd\n",
    "from pandas import DataFrame\n",
    "import matplotlib.pyplot as plt\n",
    "import numpy as np\n",
    "import os\n",
    "from datetime import date\n",
    "import datetime\n",
    "from pathlib import Path\n",
    "import seaborn as sns"
   ]
  },
  {
   "cell_type": "code",
   "execution_count": 2,
   "metadata": {},
   "outputs": [
    {
     "data": {
      "text/plain": [
       "'Banco SIVEP 23_03_2022 07_34_00.xlsx'"
      ]
     },
     "execution_count": 2,
     "metadata": {},
     "output_type": "execute_result"
    }
   ],
   "source": [
    "caminho = r'Z:\\Banco SIVEP Exportação'\n",
    "lista_arquivos = os.listdir(caminho)\n",
    "lista_datas = []\n",
    "\n",
    "for arquivo in lista_arquivos:\n",
    "    #Descobrir a data desse arquivo\n",
    "    data = os.path.getmtime(f'{caminho}/{arquivo}')\n",
    "    lista_datas.append((data,arquivo))\n",
    "\n",
    "lista_datas.sort(reverse=True) #Vai ordenar a lista em ordem decrescente com reverse=True Obs: Ele ordena sempre com o primeiro valor, por isso colocamos data antes de arquivo\n",
    "ultimo_arquivo = lista_datas[0][1] #Pega o ultimo arquivo\n",
    "ultimo_arquivo"
   ]
  },
  {
   "cell_type": "code",
   "execution_count": 3,
   "metadata": {},
   "outputs": [],
   "source": [
    "if not os.path.exists(f'Z:\\Graficos Boletim_Python/Gráficos {date.today().day}_{date.today().month}_{date.today().year}'):\n",
    "    os.makedirs(f'Z:\\Graficos Boletim_Python/Gráficos {date.today().day}_{date.today().month}_{date.today().year}')"
   ]
  },
  {
   "cell_type": "code",
   "execution_count": 4,
   "metadata": {},
   "outputs": [],
   "source": [
    "dados = pd.read_excel(f'{caminho}/{ultimo_arquivo}')\n",
    "#dados = pd.read_excel('Z:/Banco SIVEP Exportação/Banco SIVEP 16_03_2022 07_33_42.xlsx')"
   ]
  },
  {
   "cell_type": "code",
   "execution_count": 5,
   "metadata": {},
   "outputs": [
    {
     "name": "stderr",
     "output_type": "stream",
     "text": [
      "C:\\Users\\RYAN-R~1\\AppData\\Local\\Temp/ipykernel_15064/1564217990.py:2: SettingWithCopyWarning: \n",
      "A value is trying to be set on a copy of a slice from a DataFrame.\n",
      "Try using .loc[row_indexer,col_indexer] = value instead\n",
      "\n",
      "See the caveats in the documentation: https://pandas.pydata.org/pandas-docs/stable/user_guide/indexing.html#returning-a-view-versus-a-copy\n",
      "  filtrado['Faixa Etaria'] = filtrado['Faixa Etaria'].map({'0-9 anos':'0-9 anos','10-19 anos':'10-19 anos','20-29 anos':'20-59 anos','30-39 anos':'20-59 anos',\n",
      "C:\\Users\\RYAN-R~1\\AppData\\Local\\Temp/ipykernel_15064/1564217990.py:5: SettingWithCopyWarning: \n",
      "A value is trying to be set on a copy of a slice from a DataFrame.\n",
      "Try using .loc[row_indexer,col_indexer] = value instead\n",
      "\n",
      "See the caveats in the documentation: https://pandas.pydata.org/pandas-docs/stable/user_guide/indexing.html#returning-a-view-versus-a-copy\n",
      "  filtrado['Obesidade'] = filtrado['Obesidade'].map({'1':'Obesidade'})\n",
      "C:\\Users\\RYAN-R~1\\AppData\\Local\\Temp/ipykernel_15064/1564217990.py:6: SettingWithCopyWarning: \n",
      "A value is trying to be set on a copy of a slice from a DataFrame.\n",
      "Try using .loc[row_indexer,col_indexer] = value instead\n",
      "\n",
      "See the caveats in the documentation: https://pandas.pydata.org/pandas-docs/stable/user_guide/indexing.html#returning-a-view-versus-a-copy\n",
      "  filtrado['Doenca Neurologica'] = filtrado['Doenca Neurologica'].map({1.0:'Doença neurológica'})\n",
      "C:\\Users\\RYAN-R~1\\AppData\\Local\\Temp/ipykernel_15064/1564217990.py:7: SettingWithCopyWarning: \n",
      "A value is trying to be set on a copy of a slice from a DataFrame.\n",
      "Try using .loc[row_indexer,col_indexer] = value instead\n",
      "\n",
      "See the caveats in the documentation: https://pandas.pydata.org/pandas-docs/stable/user_guide/indexing.html#returning-a-view-versus-a-copy\n",
      "  filtrado['Imunodeficiencia'] = filtrado['Imunodeficiencia'].map({1.0:'Imunodeficiência'})\n",
      "C:\\Users\\RYAN-R~1\\AppData\\Local\\Temp/ipykernel_15064/1564217990.py:8: SettingWithCopyWarning: \n",
      "A value is trying to be set on a copy of a slice from a DataFrame.\n",
      "Try using .loc[row_indexer,col_indexer] = value instead\n",
      "\n",
      "See the caveats in the documentation: https://pandas.pydata.org/pandas-docs/stable/user_guide/indexing.html#returning-a-view-versus-a-copy\n",
      "  filtrado['Asma'] = filtrado['Asma'].map({1.0:'Asma'})\n",
      "C:\\Users\\RYAN-R~1\\AppData\\Local\\Temp/ipykernel_15064/1564217990.py:9: SettingWithCopyWarning: \n",
      "A value is trying to be set on a copy of a slice from a DataFrame.\n",
      "Try using .loc[row_indexer,col_indexer] = value instead\n",
      "\n",
      "See the caveats in the documentation: https://pandas.pydata.org/pandas-docs/stable/user_guide/indexing.html#returning-a-view-versus-a-copy\n",
      "  filtrado['Sindrome de Down'] = filtrado['Sindrome de Down'].map({1.0:'Síndrome de Down'})\n"
     ]
    },
    {
     "data": {
      "text/html": [
       "<div>\n",
       "<style scoped>\n",
       "    .dataframe tbody tr th:only-of-type {\n",
       "        vertical-align: middle;\n",
       "    }\n",
       "\n",
       "    .dataframe tbody tr th {\n",
       "        vertical-align: top;\n",
       "    }\n",
       "\n",
       "    .dataframe thead th {\n",
       "        text-align: right;\n",
       "    }\n",
       "</style>\n",
       "<table border=\"1\" class=\"dataframe\">\n",
       "  <thead>\n",
       "    <tr style=\"text-align: right;\">\n",
       "      <th></th>\n",
       "      <th>Tem Comorbidade</th>\n",
       "      <th>Obesidade</th>\n",
       "      <th>Doenca Neurologica</th>\n",
       "      <th>Imunodeficiencia</th>\n",
       "      <th>Asma</th>\n",
       "      <th>Sindrome de Down</th>\n",
       "      <th>Faixa Etaria</th>\n",
       "      <th>Classificacao final</th>\n",
       "      <th>Houve internacao</th>\n",
       "      <th>Evolucao</th>\n",
       "    </tr>\n",
       "  </thead>\n",
       "  <tbody>\n",
       "    <tr>\n",
       "      <th>0</th>\n",
       "      <td>Sim</td>\n",
       "      <td>NaN</td>\n",
       "      <td>NaN</td>\n",
       "      <td>NaN</td>\n",
       "      <td>Asma</td>\n",
       "      <td>NaN</td>\n",
       "      <td>0-9 anos</td>\n",
       "      <td>SRAG não especificado</td>\n",
       "      <td>Sim</td>\n",
       "      <td>Cura</td>\n",
       "    </tr>\n",
       "    <tr>\n",
       "      <th>1</th>\n",
       "      <td>Sim</td>\n",
       "      <td>NaN</td>\n",
       "      <td>Doença neurológica</td>\n",
       "      <td>NaN</td>\n",
       "      <td>NaN</td>\n",
       "      <td>NaN</td>\n",
       "      <td>0-9 anos</td>\n",
       "      <td>SRAG não especificado</td>\n",
       "      <td>Sim</td>\n",
       "      <td>Cura</td>\n",
       "    </tr>\n",
       "    <tr>\n",
       "      <th>2</th>\n",
       "      <td>Sim</td>\n",
       "      <td>NaN</td>\n",
       "      <td>Doença neurológica</td>\n",
       "      <td>NaN</td>\n",
       "      <td>NaN</td>\n",
       "      <td>NaN</td>\n",
       "      <td>0-9 anos</td>\n",
       "      <td>SRAG não especificado</td>\n",
       "      <td>Sim</td>\n",
       "      <td>Cura</td>\n",
       "    </tr>\n",
       "    <tr>\n",
       "      <th>3</th>\n",
       "      <td>Não</td>\n",
       "      <td>NaN</td>\n",
       "      <td>NaN</td>\n",
       "      <td>NaN</td>\n",
       "      <td>NaN</td>\n",
       "      <td>NaN</td>\n",
       "      <td>0-9 anos</td>\n",
       "      <td>SRAG não especificado</td>\n",
       "      <td>Sim</td>\n",
       "      <td>Cura</td>\n",
       "    </tr>\n",
       "    <tr>\n",
       "      <th>4</th>\n",
       "      <td>Não</td>\n",
       "      <td>NaN</td>\n",
       "      <td>NaN</td>\n",
       "      <td>NaN</td>\n",
       "      <td>NaN</td>\n",
       "      <td>NaN</td>\n",
       "      <td>0-9 anos</td>\n",
       "      <td>SRAG não especificado</td>\n",
       "      <td>Sim</td>\n",
       "      <td>Cura</td>\n",
       "    </tr>\n",
       "    <tr>\n",
       "      <th>...</th>\n",
       "      <td>...</td>\n",
       "      <td>...</td>\n",
       "      <td>...</td>\n",
       "      <td>...</td>\n",
       "      <td>...</td>\n",
       "      <td>...</td>\n",
       "      <td>...</td>\n",
       "      <td>...</td>\n",
       "      <td>...</td>\n",
       "      <td>...</td>\n",
       "    </tr>\n",
       "    <tr>\n",
       "      <th>168337</th>\n",
       "      <td>Não</td>\n",
       "      <td>NaN</td>\n",
       "      <td>NaN</td>\n",
       "      <td>NaN</td>\n",
       "      <td>NaN</td>\n",
       "      <td>NaN</td>\n",
       "      <td>60 anos ou mais</td>\n",
       "      <td>COVID-19</td>\n",
       "      <td>Sim</td>\n",
       "      <td>Óbito</td>\n",
       "    </tr>\n",
       "    <tr>\n",
       "      <th>168338</th>\n",
       "      <td>Sim</td>\n",
       "      <td>NaN</td>\n",
       "      <td>NaN</td>\n",
       "      <td>NaN</td>\n",
       "      <td>NaN</td>\n",
       "      <td>NaN</td>\n",
       "      <td>60 anos ou mais</td>\n",
       "      <td>COVID-19</td>\n",
       "      <td>Sim</td>\n",
       "      <td>Óbito</td>\n",
       "    </tr>\n",
       "    <tr>\n",
       "      <th>168339</th>\n",
       "      <td>Não</td>\n",
       "      <td>NaN</td>\n",
       "      <td>NaN</td>\n",
       "      <td>NaN</td>\n",
       "      <td>NaN</td>\n",
       "      <td>NaN</td>\n",
       "      <td>60 anos ou mais</td>\n",
       "      <td>COVID-19</td>\n",
       "      <td>Sim</td>\n",
       "      <td>Ignorado</td>\n",
       "    </tr>\n",
       "    <tr>\n",
       "      <th>168340</th>\n",
       "      <td>Sim</td>\n",
       "      <td>NaN</td>\n",
       "      <td>NaN</td>\n",
       "      <td>NaN</td>\n",
       "      <td>NaN</td>\n",
       "      <td>NaN</td>\n",
       "      <td>60 anos ou mais</td>\n",
       "      <td>SRAG não especificado</td>\n",
       "      <td>Sim</td>\n",
       "      <td>Cura</td>\n",
       "    </tr>\n",
       "    <tr>\n",
       "      <th>168341</th>\n",
       "      <td>NaN</td>\n",
       "      <td>NaN</td>\n",
       "      <td>NaN</td>\n",
       "      <td>NaN</td>\n",
       "      <td>NaN</td>\n",
       "      <td>NaN</td>\n",
       "      <td>NaN</td>\n",
       "      <td>NaN</td>\n",
       "      <td>NaN</td>\n",
       "      <td>NaN</td>\n",
       "    </tr>\n",
       "  </tbody>\n",
       "</table>\n",
       "<p>168342 rows × 10 columns</p>\n",
       "</div>"
      ],
      "text/plain": [
       "       Tem Comorbidade Obesidade  Doenca Neurologica Imunodeficiencia  Asma  \\\n",
       "0                  Sim       NaN                 NaN              NaN  Asma   \n",
       "1                  Sim       NaN  Doença neurológica              NaN   NaN   \n",
       "2                  Sim       NaN  Doença neurológica              NaN   NaN   \n",
       "3                  Não       NaN                 NaN              NaN   NaN   \n",
       "4                  Não       NaN                 NaN              NaN   NaN   \n",
       "...                ...       ...                 ...              ...   ...   \n",
       "168337             Não       NaN                 NaN              NaN   NaN   \n",
       "168338             Sim       NaN                 NaN              NaN   NaN   \n",
       "168339             Não       NaN                 NaN              NaN   NaN   \n",
       "168340             Sim       NaN                 NaN              NaN   NaN   \n",
       "168341             NaN       NaN                 NaN              NaN   NaN   \n",
       "\n",
       "       Sindrome de Down     Faixa Etaria    Classificacao final  \\\n",
       "0                   NaN         0-9 anos  SRAG não especificado   \n",
       "1                   NaN         0-9 anos  SRAG não especificado   \n",
       "2                   NaN         0-9 anos  SRAG não especificado   \n",
       "3                   NaN         0-9 anos  SRAG não especificado   \n",
       "4                   NaN         0-9 anos  SRAG não especificado   \n",
       "...                 ...              ...                    ...   \n",
       "168337              NaN  60 anos ou mais               COVID-19   \n",
       "168338              NaN  60 anos ou mais               COVID-19   \n",
       "168339              NaN  60 anos ou mais               COVID-19   \n",
       "168340              NaN  60 anos ou mais  SRAG não especificado   \n",
       "168341              NaN              NaN                    NaN   \n",
       "\n",
       "       Houve internacao  Evolucao  \n",
       "0                   Sim      Cura  \n",
       "1                   Sim      Cura  \n",
       "2                   Sim      Cura  \n",
       "3                   Sim      Cura  \n",
       "4                   Sim      Cura  \n",
       "...                 ...       ...  \n",
       "168337              Sim     Óbito  \n",
       "168338              Sim     Óbito  \n",
       "168339              Sim  Ignorado  \n",
       "168340              Sim      Cura  \n",
       "168341              NaN       NaN  \n",
       "\n",
       "[168342 rows x 10 columns]"
      ]
     },
     "execution_count": 5,
     "metadata": {},
     "output_type": "execute_result"
    }
   ],
   "source": [
    "filtrado = dados[['Tem Comorbidade','Obesidade','Doenca Neurologica','Imunodeficiencia','Asma','Sindrome de Down','Faixa Etaria','Classificacao final','Houve internacao','Evolucao']]\n",
    "filtrado['Faixa Etaria'] = filtrado['Faixa Etaria'].map({'0-9 anos':'0-9 anos','10-19 anos':'10-19 anos','20-29 anos':'20-59 anos','30-39 anos':'20-59 anos',\n",
    "                                                         '40-49 anos':'20-59 anos','50-59 anos':'20-59 anos','60-69 anos':'60 anos ou mais','70-79 anos':'60 anos ou mais',\n",
    "                                                         '80 e mais anos':'60 anos ou mais'})\n",
    "filtrado['Obesidade'] = filtrado['Obesidade'].map({'1':'Obesidade'})\n",
    "filtrado['Doenca Neurologica'] = filtrado['Doenca Neurologica'].map({1.0:'Doença neurológica'})\n",
    "filtrado['Imunodeficiencia'] = filtrado['Imunodeficiencia'].map({1.0:'Imunodeficiência'})\n",
    "filtrado['Asma'] = filtrado['Asma'].map({1.0:'Asma'})\n",
    "filtrado['Sindrome de Down'] = filtrado['Sindrome de Down'].map({1.0:'Síndrome de Down'})\n",
    "filtrado"
   ]
  },
  {
   "cell_type": "code",
   "execution_count": 6,
   "metadata": {},
   "outputs": [],
   "source": [
    "anos19_obito = filtrado.loc[filtrado['Faixa Etaria']=='10-19 anos']\n",
    "anos19_obito = anos19_obito.loc[anos19_obito['Evolucao']=='Óbito']\n",
    "anos19_obito = anos19_obito.loc[anos19_obito['Classificacao final']=='COVID-19']"
   ]
  },
  {
   "cell_type": "code",
   "execution_count": 7,
   "metadata": {},
   "outputs": [],
   "source": [
    "temComorbidade_obito = anos19_obito.loc[anos19_obito['Tem Comorbidade']=='Sim']\n",
    "temComorbidade_obito = temComorbidade_obito.groupby('Tem Comorbidade').count()\n",
    "temComorbidade_obito = temComorbidade_obito.drop(temComorbidade_obito.columns[[0,1,2,3,4,5,6,7]],axis=1)\n",
    "obesidade_obito = anos19_obito.groupby('Obesidade').count()\n",
    "obesidade_obito = obesidade_obito.drop(obesidade_obito.columns[[0,1,2,3,4,5,6,7]],axis=1)\n",
    "doencaneuro_obito = anos19_obito.groupby('Doenca Neurologica').count()\n",
    "doencaneuro_obito = doencaneuro_obito.drop(doencaneuro_obito.columns[[0,1,2,3,4,5,6,7]],axis=1)\n",
    "imunodeficiencia_obito = anos19_obito.groupby('Imunodeficiencia').count()\n",
    "imunodeficiencia_obito = imunodeficiencia_obito.drop(imunodeficiencia_obito.columns[[0,1,2,3,4,5,6,7]],axis=1)\n",
    "asma_obito = anos19_obito.groupby('Asma').count()\n",
    "asma_obito = asma_obito.drop(asma_obito.columns[[0,1,2,3,4,5,6,7]],axis=1)\n",
    "down_obito = anos19_obito.groupby('Sindrome de Down').count()\n",
    "down_obito = down_obito.drop(down_obito.columns[[0,1,2,3,4,5,6,7]],axis=1)"
   ]
  },
  {
   "cell_type": "code",
   "execution_count": 8,
   "metadata": {},
   "outputs": [
    {
     "data": {
      "text/plain": [
       "0    63\n",
       "Name: Houve internacao, dtype: int64"
      ]
     },
     "execution_count": 8,
     "metadata": {},
     "output_type": "execute_result"
    }
   ],
   "source": [
    "totalObitos_anos19 = filtrado.loc[filtrado['Faixa Etaria']=='10-19 anos']\n",
    "totalObitos_anos19 = totalObitos_anos19.loc[totalObitos_anos19['Evolucao']=='Óbito']\n",
    "totalObitos_anos19 = totalObitos_anos19.loc[totalObitos_anos19['Classificacao final']=='COVID-19']\n",
    "totalObitos_anos19 = totalObitos_anos19.groupby('Evolucao').count()\n",
    "totalObitos_anos19 = totalObitos_anos19.drop(totalObitos_anos19.columns[[0,1,2,3,4,5,6,7]],axis=1)\n",
    "totalObitos_anos19 = totalObitos_anos19.reset_index()\n",
    "totalObitos_anos19 = totalObitos_anos19['Houve internacao']\n",
    "totalObitos_anos19"
   ]
  },
  {
   "cell_type": "code",
   "execution_count": 9,
   "metadata": {},
   "outputs": [
    {
     "data": {
      "text/html": [
       "<div>\n",
       "<style scoped>\n",
       "    .dataframe tbody tr th:only-of-type {\n",
       "        vertical-align: middle;\n",
       "    }\n",
       "\n",
       "    .dataframe tbody tr th {\n",
       "        vertical-align: top;\n",
       "    }\n",
       "\n",
       "    .dataframe thead th {\n",
       "        text-align: right;\n",
       "    }\n",
       "</style>\n",
       "<table border=\"1\" class=\"dataframe\">\n",
       "  <thead>\n",
       "    <tr style=\"text-align: right;\">\n",
       "      <th></th>\n",
       "      <th>index</th>\n",
       "      <th>Evolucao</th>\n",
       "    </tr>\n",
       "  </thead>\n",
       "  <tbody>\n",
       "    <tr>\n",
       "      <th>0</th>\n",
       "      <td>Alguma comorbidade</td>\n",
       "      <td>57</td>\n",
       "    </tr>\n",
       "    <tr>\n",
       "      <th>1</th>\n",
       "      <td>Obesidade</td>\n",
       "      <td>15</td>\n",
       "    </tr>\n",
       "    <tr>\n",
       "      <th>2</th>\n",
       "      <td>Doença neurológica</td>\n",
       "      <td>14</td>\n",
       "    </tr>\n",
       "    <tr>\n",
       "      <th>3</th>\n",
       "      <td>Imunodeficiência</td>\n",
       "      <td>10</td>\n",
       "    </tr>\n",
       "    <tr>\n",
       "      <th>4</th>\n",
       "      <td>Asma</td>\n",
       "      <td>8</td>\n",
       "    </tr>\n",
       "    <tr>\n",
       "      <th>5</th>\n",
       "      <td>Síndrome de Down</td>\n",
       "      <td>8</td>\n",
       "    </tr>\n",
       "  </tbody>\n",
       "</table>\n",
       "</div>"
      ],
      "text/plain": [
       "                index  Evolucao\n",
       "0  Alguma comorbidade        57\n",
       "1           Obesidade        15\n",
       "2  Doença neurológica        14\n",
       "3    Imunodeficiência        10\n",
       "4                Asma         8\n",
       "5    Síndrome de Down         8"
      ]
     },
     "execution_count": 9,
     "metadata": {},
     "output_type": "execute_result"
    }
   ],
   "source": [
    "juntaAnos19_obito = temComorbidade_obito.append(obesidade_obito)\n",
    "juntaAnos19_obito = juntaAnos19_obito.append(doencaneuro_obito)\n",
    "juntaAnos19_obito = juntaAnos19_obito.append(imunodeficiencia_obito)\n",
    "juntaAnos19_obito = juntaAnos19_obito.append(asma_obito)\n",
    "juntaAnos19_obito = juntaAnos19_obito.append(down_obito)\n",
    "juntaAnos19_obito = juntaAnos19_obito.rename({'Sim':'Alguma comorbidade'})\n",
    "juntaAnos19_obito = juntaAnos19_obito.reset_index()\n",
    "juntaAnos19_obito"
   ]
  },
  {
   "cell_type": "code",
   "execution_count": 10,
   "metadata": {},
   "outputs": [
    {
     "data": {
      "text/html": [
       "<div>\n",
       "<style scoped>\n",
       "    .dataframe tbody tr th:only-of-type {\n",
       "        vertical-align: middle;\n",
       "    }\n",
       "\n",
       "    .dataframe tbody tr th {\n",
       "        vertical-align: top;\n",
       "    }\n",
       "\n",
       "    .dataframe thead th {\n",
       "        text-align: right;\n",
       "    }\n",
       "</style>\n",
       "<table border=\"1\" class=\"dataframe\">\n",
       "  <thead>\n",
       "    <tr style=\"text-align: right;\">\n",
       "      <th></th>\n",
       "      <th>index</th>\n",
       "      <th>Evolucao</th>\n",
       "    </tr>\n",
       "  </thead>\n",
       "  <tbody>\n",
       "    <tr>\n",
       "      <th>0</th>\n",
       "      <td>Asma</td>\n",
       "      <td>8</td>\n",
       "    </tr>\n",
       "    <tr>\n",
       "      <th>1</th>\n",
       "      <td>Síndrome de Down</td>\n",
       "      <td>8</td>\n",
       "    </tr>\n",
       "    <tr>\n",
       "      <th>2</th>\n",
       "      <td>Imunodeficiência</td>\n",
       "      <td>10</td>\n",
       "    </tr>\n",
       "    <tr>\n",
       "      <th>3</th>\n",
       "      <td>Doença neurológica</td>\n",
       "      <td>14</td>\n",
       "    </tr>\n",
       "    <tr>\n",
       "      <th>4</th>\n",
       "      <td>Obesidade</td>\n",
       "      <td>15</td>\n",
       "    </tr>\n",
       "    <tr>\n",
       "      <th>5</th>\n",
       "      <td>Alguma comorbidade</td>\n",
       "      <td>57</td>\n",
       "    </tr>\n",
       "  </tbody>\n",
       "</table>\n",
       "</div>"
      ],
      "text/plain": [
       "                index  Evolucao\n",
       "0                Asma         8\n",
       "1    Síndrome de Down         8\n",
       "2    Imunodeficiência        10\n",
       "3  Doença neurológica        14\n",
       "4           Obesidade        15\n",
       "5  Alguma comorbidade        57"
      ]
     },
     "execution_count": 10,
     "metadata": {},
     "output_type": "execute_result"
    }
   ],
   "source": [
    "ordenaAnos19_obito = juntaAnos19_obito.copy()\n",
    "ordenaAnos19_obito.loc[0] = juntaAnos19_obito.loc[4]\n",
    "ordenaAnos19_obito.loc[1] = juntaAnos19_obito.loc[5]\n",
    "ordenaAnos19_obito.loc[2] = juntaAnos19_obito.loc[3]\n",
    "ordenaAnos19_obito.loc[3] = juntaAnos19_obito.loc[2]\n",
    "ordenaAnos19_obito.loc[4] = juntaAnos19_obito.loc[1]\n",
    "ordenaAnos19_obito.loc[5] = juntaAnos19_obito.loc[0]\n",
    "ordenaAnos19_obito"
   ]
  },
  {
   "cell_type": "code",
   "execution_count": 11,
   "metadata": {},
   "outputs": [],
   "source": [
    "divisao = pd.DataFrame(columns={'Valores'})\n",
    "for i in np.arange(0,len(ordenaAnos19_obito),1):\n",
    "    divisao.loc[i] = totalObitos_anos19.loc[0]\n",
    "divisao = divisao.fillna(ordenaAnos19_obito)"
   ]
  },
  {
   "cell_type": "code",
   "execution_count": 12,
   "metadata": {},
   "outputs": [
    {
     "data": {
      "text/plain": [
       "0    12.698413\n",
       "1    12.698413\n",
       "2    15.873016\n",
       "3    22.222222\n",
       "4    23.809524\n",
       "5     90.47619\n",
       "Name: Evolucao, dtype: object"
      ]
     },
     "execution_count": 12,
     "metadata": {},
     "output_type": "execute_result"
    }
   ],
   "source": [
    "calcula_anos19_obito = ordenaAnos19_obito['Evolucao']/divisao['Valores']*100\n",
    "calcula_anos19_obito = calcula_anos19_obito.to_frame()\n",
    "calcula_anos19_obito = calcula_anos19_obito.rename(columns={0:'Evolucao'})\n",
    "calcula_anos19_obito = calcula_anos19_obito['Evolucao']\n",
    "calcula_anos19_obito"
   ]
  },
  {
   "cell_type": "code",
   "execution_count": 13,
   "metadata": {},
   "outputs": [],
   "source": [
    "anos19_hospi = filtrado.loc[filtrado['Faixa Etaria']=='10-19 anos']\n",
    "anos19_hospi = anos19_hospi.loc[anos19_hospi['Houve internacao']=='Sim']\n",
    "anos19_hospi = anos19_hospi.loc[anos19_hospi['Classificacao final']=='COVID-19']"
   ]
  },
  {
   "cell_type": "code",
   "execution_count": 14,
   "metadata": {},
   "outputs": [],
   "source": [
    "temComorbidade_hospi = anos19_obito.loc[anos19_obito['Tem Comorbidade']=='Sim']\n",
    "temComorbidade_hospi = temComorbidade_hospi.groupby('Tem Comorbidade').count()\n",
    "temComorbidade_hospi = temComorbidade_hospi.drop(temComorbidade_hospi.columns[[0,1,2,3,4,5,6,7]],axis=1)\n",
    "obesidade_hospi = anos19_obito.groupby('Obesidade').count()\n",
    "obesidade_hospi = obesidade_hospi.drop(obesidade_hospi.columns[[0,1,2,3,4,5,6,7]],axis=1)\n",
    "doencaneuro_hospi = anos19_obito.groupby('Doenca Neurologica').count()\n",
    "doencaneuro_hospi = doencaneuro_hospi.drop(doencaneuro_hospi.columns[[0,1,2,3,4,5,6,7]],axis=1)\n",
    "imunodeficiencia_hospi = anos19_obito.groupby('Imunodeficiencia').count()\n",
    "imunodeficiencia_hospi = imunodeficiencia_hospi.drop(imunodeficiencia_hospi.columns[[0,1,2,3,4,5,6,7]],axis=1)\n",
    "asma_hospi = anos19_obito.groupby('Asma').count()\n",
    "asma_hospi = asma_hospi.drop(asma_hospi.columns[[0,1,2,3,4,5,6,7]],axis=1)\n",
    "down_hospi = anos19_obito.groupby('Sindrome de Down').count()\n",
    "down_hospi = down_hospi.drop(down_hospi.columns[[0,1,2,3,4,5,6,7]],axis=1)"
   ]
  },
  {
   "cell_type": "code",
   "execution_count": 15,
   "metadata": {},
   "outputs": [
    {
     "data": {
      "text/plain": [
       "0    670\n",
       "Name: Evolucao, dtype: int64"
      ]
     },
     "execution_count": 15,
     "metadata": {},
     "output_type": "execute_result"
    }
   ],
   "source": [
    "totalHospi_anos19 = filtrado.loc[filtrado['Faixa Etaria']=='10-19 anos']\n",
    "totalHospi_anos19 = totalHospi_anos19.loc[totalHospi_anos19['Houve internacao']=='Sim']\n",
    "totalHospi_anos19 = totalHospi_anos19.loc[totalHospi_anos19['Classificacao final']=='COVID-19']\n",
    "totalHospi_anos19 = totalHospi_anos19.groupby('Houve internacao').count()\n",
    "totalHospi_anos19 = totalHospi_anos19.drop(totalHospi_anos19.columns[[0,1,2,3,4,5,6,7]],axis=1)\n",
    "totalHospi_anos19 = totalHospi_anos19.reset_index()\n",
    "totalHospi_anos19 = totalHospi_anos19['Evolucao']\n",
    "totalHospi_anos19"
   ]
  },
  {
   "cell_type": "code",
   "execution_count": 16,
   "metadata": {},
   "outputs": [
    {
     "data": {
      "text/html": [
       "<div>\n",
       "<style scoped>\n",
       "    .dataframe tbody tr th:only-of-type {\n",
       "        vertical-align: middle;\n",
       "    }\n",
       "\n",
       "    .dataframe tbody tr th {\n",
       "        vertical-align: top;\n",
       "    }\n",
       "\n",
       "    .dataframe thead th {\n",
       "        text-align: right;\n",
       "    }\n",
       "</style>\n",
       "<table border=\"1\" class=\"dataframe\">\n",
       "  <thead>\n",
       "    <tr style=\"text-align: right;\">\n",
       "      <th></th>\n",
       "      <th>index</th>\n",
       "      <th>Evolucao</th>\n",
       "    </tr>\n",
       "  </thead>\n",
       "  <tbody>\n",
       "    <tr>\n",
       "      <th>0</th>\n",
       "      <td>Alguma comorbidade</td>\n",
       "      <td>57</td>\n",
       "    </tr>\n",
       "    <tr>\n",
       "      <th>1</th>\n",
       "      <td>Obesidade</td>\n",
       "      <td>15</td>\n",
       "    </tr>\n",
       "    <tr>\n",
       "      <th>2</th>\n",
       "      <td>Doença neurológica</td>\n",
       "      <td>14</td>\n",
       "    </tr>\n",
       "    <tr>\n",
       "      <th>3</th>\n",
       "      <td>Imunodeficiência</td>\n",
       "      <td>10</td>\n",
       "    </tr>\n",
       "    <tr>\n",
       "      <th>4</th>\n",
       "      <td>Asma</td>\n",
       "      <td>8</td>\n",
       "    </tr>\n",
       "    <tr>\n",
       "      <th>5</th>\n",
       "      <td>Síndrome de Down</td>\n",
       "      <td>8</td>\n",
       "    </tr>\n",
       "  </tbody>\n",
       "</table>\n",
       "</div>"
      ],
      "text/plain": [
       "                index  Evolucao\n",
       "0  Alguma comorbidade        57\n",
       "1           Obesidade        15\n",
       "2  Doença neurológica        14\n",
       "3    Imunodeficiência        10\n",
       "4                Asma         8\n",
       "5    Síndrome de Down         8"
      ]
     },
     "execution_count": 16,
     "metadata": {},
     "output_type": "execute_result"
    }
   ],
   "source": [
    "juntaAnos19_hospi = temComorbidade_hospi.append(obesidade_hospi)\n",
    "juntaAnos19_hospi = juntaAnos19_hospi.append(doencaneuro_hospi)\n",
    "juntaAnos19_hospi = juntaAnos19_hospi.append(imunodeficiencia_hospi)\n",
    "juntaAnos19_hospi = juntaAnos19_hospi.append(asma_hospi)\n",
    "juntaAnos19_hospi = juntaAnos19_hospi.append(down_hospi)\n",
    "juntaAnos19_hospi = juntaAnos19_hospi.rename({'Sim':'Alguma comorbidade'})\n",
    "juntaAnos19_hospi = juntaAnos19_hospi.reset_index()\n",
    "juntaAnos19_hospi"
   ]
  },
  {
   "cell_type": "code",
   "execution_count": 17,
   "metadata": {},
   "outputs": [
    {
     "data": {
      "text/html": [
       "<div>\n",
       "<style scoped>\n",
       "    .dataframe tbody tr th:only-of-type {\n",
       "        vertical-align: middle;\n",
       "    }\n",
       "\n",
       "    .dataframe tbody tr th {\n",
       "        vertical-align: top;\n",
       "    }\n",
       "\n",
       "    .dataframe thead th {\n",
       "        text-align: right;\n",
       "    }\n",
       "</style>\n",
       "<table border=\"1\" class=\"dataframe\">\n",
       "  <thead>\n",
       "    <tr style=\"text-align: right;\">\n",
       "      <th></th>\n",
       "      <th>index</th>\n",
       "      <th>Evolucao</th>\n",
       "    </tr>\n",
       "  </thead>\n",
       "  <tbody>\n",
       "    <tr>\n",
       "      <th>0</th>\n",
       "      <td>Asma</td>\n",
       "      <td>8</td>\n",
       "    </tr>\n",
       "    <tr>\n",
       "      <th>1</th>\n",
       "      <td>Síndrome de Down</td>\n",
       "      <td>8</td>\n",
       "    </tr>\n",
       "    <tr>\n",
       "      <th>2</th>\n",
       "      <td>Imunodeficiência</td>\n",
       "      <td>10</td>\n",
       "    </tr>\n",
       "    <tr>\n",
       "      <th>3</th>\n",
       "      <td>Doença neurológica</td>\n",
       "      <td>14</td>\n",
       "    </tr>\n",
       "    <tr>\n",
       "      <th>4</th>\n",
       "      <td>Obesidade</td>\n",
       "      <td>15</td>\n",
       "    </tr>\n",
       "    <tr>\n",
       "      <th>5</th>\n",
       "      <td>Alguma comorbidade</td>\n",
       "      <td>57</td>\n",
       "    </tr>\n",
       "  </tbody>\n",
       "</table>\n",
       "</div>"
      ],
      "text/plain": [
       "                index  Evolucao\n",
       "0                Asma         8\n",
       "1    Síndrome de Down         8\n",
       "2    Imunodeficiência        10\n",
       "3  Doença neurológica        14\n",
       "4           Obesidade        15\n",
       "5  Alguma comorbidade        57"
      ]
     },
     "execution_count": 17,
     "metadata": {},
     "output_type": "execute_result"
    }
   ],
   "source": [
    "ordenaAnos19_hospi = juntaAnos19_hospi.copy()\n",
    "ordenaAnos19_hospi.loc[0] = juntaAnos19_hospi.loc[4]\n",
    "ordenaAnos19_hospi.loc[1] = juntaAnos19_hospi.loc[5]\n",
    "ordenaAnos19_hospi.loc[2] = juntaAnos19_hospi.loc[3]\n",
    "ordenaAnos19_hospi.loc[3] = juntaAnos19_hospi.loc[2]\n",
    "ordenaAnos19_hospi.loc[4] = juntaAnos19_hospi.loc[1]\n",
    "ordenaAnos19_hospi.loc[5] = juntaAnos19_hospi.loc[0]\n",
    "ordenaAnos19_hospi"
   ]
  },
  {
   "cell_type": "code",
   "execution_count": 18,
   "metadata": {},
   "outputs": [],
   "source": [
    "divisao = pd.DataFrame(columns={'Valores'})\n",
    "for i in np.arange(0,len(ordenaAnos19_hospi),1):\n",
    "    divisao.loc[i] = totalHospi_anos19.loc[0]\n",
    "divisao = divisao.fillna(ordenaAnos19_hospi)"
   ]
  },
  {
   "cell_type": "code",
   "execution_count": 19,
   "metadata": {},
   "outputs": [
    {
     "data": {
      "text/plain": [
       "0     1.19403\n",
       "1     1.19403\n",
       "2    1.492537\n",
       "3    2.089552\n",
       "4    2.238806\n",
       "5    8.507463\n",
       "Name: Evolucao, dtype: object"
      ]
     },
     "execution_count": 19,
     "metadata": {},
     "output_type": "execute_result"
    }
   ],
   "source": [
    "calcula_anos19_hospi = ordenaAnos19_hospi['Evolucao']/divisao['Valores']*100\n",
    "calcula_anos19_hospi = calcula_anos19_hospi.to_frame()\n",
    "calcula_anos19_hospi = calcula_anos19_hospi.rename(columns={0:'Evolucao'})\n",
    "calcula_anos19_hospi = calcula_anos19_hospi['Evolucao']\n",
    "calcula_anos19_hospi"
   ]
  },
  {
   "cell_type": "code",
   "execution_count": 20,
   "metadata": {},
   "outputs": [],
   "source": [
    "comorbidade = ordenaAnos19_obito['index']"
   ]
  },
  {
   "cell_type": "code",
   "execution_count": 21,
   "metadata": {},
   "outputs": [],
   "source": [
    "legenda = pd.DataFrame(columns=['Óbito','Hospitalização'])"
   ]
  },
  {
   "cell_type": "code",
   "execution_count": 22,
   "metadata": {},
   "outputs": [
    {
     "data": {
      "text/plain": [
       "'Gráficos 23_3_2022'"
      ]
     },
     "execution_count": 22,
     "metadata": {},
     "output_type": "execute_result"
    }
   ],
   "source": [
    "pasta = r'Z:\\Graficos Boletim_Python'\n",
    "lista_arquivos = os.listdir(pasta)\n",
    "lista_datas = []\n",
    "\n",
    "for arquivo in lista_arquivos:\n",
    "    #Descobrir a data desse arquivo\n",
    "    data = os.path.getmtime(f'{pasta}/{arquivo}')\n",
    "    lista_datas.append((data,arquivo))\n",
    "\n",
    "lista_datas.sort(reverse=True) #Vai ordenar a lista em ordem decrescente com reverse=True Obs: Ele ordena sempre com o primeiro valor, por isso colocamos data antes de arquivo\n",
    "ultima_pasta = lista_datas[0][1] #Pega o ultimo arquivo\n",
    "ultima_pasta"
   ]
  },
  {
   "cell_type": "code",
   "execution_count": 23,
   "metadata": {},
   "outputs": [
    {
     "data": {
      "image/png": "[encoded data removed]",
      "text/plain": [
       "<Figure size 2160x720 with 1 Axes>"
      ]
     },
     "metadata": {
      "needs_background": "light"
     },
     "output_type": "display_data"
    }
   ],
   "source": [
    "plt.figure(figsize=(30,10))\n",
    "width=0.4\n",
    "plt.barh(comorbidade,calcula_anos19_obito,width,color='#8a3e4b')\n",
    "plt.barh(np.arange(0,np.size(comorbidade),1)-0.43,calcula_anos19_hospi,width,color='#b58d94')\n",
    "sns.despine()\n",
    "plt.yticks(fontsize=25)\n",
    "plt.xticks(np.arange(0,110,10),fontsize=25)\n",
    "plt.gca().set_xticklabels(['{:.0f}%'.format(x*1) for x in plt.gca().get_xticks()])\n",
    "plt.savefig(f'Z:/Graficos Boletim_Python/{ultima_pasta}/Slide13_10-19 anos.png',dpi=720,bbox_inches='tight')"
   ]
  },
  {
   "cell_type": "code",
   "execution_count": null,
   "metadata": {},
   "outputs": [],
   "source": []
  }
 ],
 "metadata": {
  "interpreter": {
   "hash": "1de187e5902025e922368a2d9f95ab7dc4a859d9f86e50683b5a6b0b3bf7ba31"
  },
  "kernelspec": {
   "display_name": "Python 3.9.7 64-bit ('base': conda)",
   "language": "python",
   "name": "python3"
  },
  "language_info": {
   "codemirror_mode": {
    "name": "ipython",
    "version": 3
   },
   "file_extension": ".py",
   "mimetype": "text/x-python",
   "name": "python",
   "nbconvert_exporter": "python",
   "pygments_lexer": "ipython3",
   "version": "3.9.7"
  },
  "orig_nbformat": 4
 },
 "nbformat": 4,
 "nbformat_minor": 2
}
